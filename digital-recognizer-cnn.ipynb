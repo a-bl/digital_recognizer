{
 "cells": [
  {
   "cell_type": "markdown",
   "metadata": {
    "papermill": {
     "duration": 0.025847,
     "end_time": "2020-12-07T13:53:52.656272",
     "exception": false,
     "start_time": "2020-12-07T13:53:52.630425",
     "status": "completed"
    },
    "tags": []
   },
   "source": [
    "# Welcome to digital recognizer with using CNN"
   ]
  },
  {
   "cell_type": "markdown",
   "metadata": {
    "papermill": {
     "duration": 0.023711,
     "end_time": "2020-12-07T13:53:52.704211",
     "exception": false,
     "start_time": "2020-12-07T13:53:52.680500",
     "status": "completed"
    },
    "tags": []
   },
   "source": [
    "**I would really appreciate your votes if you liked this notebook!**"
   ]
  },
  {
   "cell_type": "markdown",
   "metadata": {
    "papermill": {
     "duration": 0.024557,
     "end_time": "2020-12-07T13:53:52.752834",
     "exception": false,
     "start_time": "2020-12-07T13:53:52.728277",
     "status": "completed"
    },
    "tags": []
   },
   "source": [
    "*First we need import all required libraries*"
   ]
  },
  {
   "cell_type": "code",
   "execution_count": 1,
   "metadata": {
    "_cell_guid": "b1076dfc-b9ad-4769-8c92-a6c4dae69d19",
    "_uuid": "8f2839f25d086af736a60e9eeb907d3b93b6e0e5",
    "execution": {
     "iopub.execute_input": "2020-12-07T13:53:52.816274Z",
     "iopub.status.busy": "2020-12-07T13:53:52.815469Z",
     "iopub.status.idle": "2020-12-07T13:53:59.425115Z",
     "shell.execute_reply": "2020-12-07T13:53:59.424313Z"
    },
    "papermill": {
     "duration": 6.648077,
     "end_time": "2020-12-07T13:53:59.425247",
     "exception": false,
     "start_time": "2020-12-07T13:53:52.777170",
     "status": "completed"
    },
    "tags": []
   },
   "outputs": [],
   "source": [
    "import math\n",
    "import pandas as pd\n",
    "import numpy as np\n",
    "import h5py\n",
    "import matplotlib.pyplot as plt\n",
    "import seaborn as sns\n",
    "from sklearn.metrics import confusion_matrix\n",
    "from sklearn.model_selection import train_test_split\n",
    "\n",
    "from tensorflow.keras.models import Sequential\n",
    "from tensorflow.keras.optimizers import Adam as Adam\n",
    "from tensorflow.keras.layers import Dense, Dropout, Flatten, Conv2D, MaxPooling2D, BatchNormalization\n",
    "from tensorflow.keras.losses import CategoricalCrossentropy as CC\n",
    "from tensorflow.keras.losses import SparseCategoricalCrossentropy as SCC\n",
    "import tensorflow as tf\n",
    "from tensorflow.python.framework import ops\n",
    "\n",
    "\n",
    "%matplotlib inline"
   ]
  },
  {
   "cell_type": "markdown",
   "metadata": {
    "papermill": {
     "duration": 0.023872,
     "end_time": "2020-12-07T13:53:59.473788",
     "exception": false,
     "start_time": "2020-12-07T13:53:59.449916",
     "status": "completed"
    },
    "tags": []
   },
   "source": [
    "# Load the data"
   ]
  },
  {
   "cell_type": "code",
   "execution_count": 2,
   "metadata": {
    "_cell_guid": "79c7e3d0-c299-4dcb-8224-4455121ee9b0",
    "_uuid": "d629ff2d2480ee46fbb7e2d37f6b5fab8052498a",
    "execution": {
     "iopub.execute_input": "2020-12-07T13:53:59.530115Z",
     "iopub.status.busy": "2020-12-07T13:53:59.529317Z",
     "iopub.status.idle": "2020-12-07T13:54:06.370031Z",
     "shell.execute_reply": "2020-12-07T13:54:06.369450Z"
    },
    "papermill": {
     "duration": 6.872108,
     "end_time": "2020-12-07T13:54:06.370162",
     "exception": false,
     "start_time": "2020-12-07T13:53:59.498054",
     "status": "completed"
    },
    "tags": []
   },
   "outputs": [
    {
     "data": {
      "text/html": [
       "<div>\n",
       "<style scoped>\n",
       "    .dataframe tbody tr th:only-of-type {\n",
       "        vertical-align: middle;\n",
       "    }\n",
       "\n",
       "    .dataframe tbody tr th {\n",
       "        vertical-align: top;\n",
       "    }\n",
       "\n",
       "    .dataframe thead th {\n",
       "        text-align: right;\n",
       "    }\n",
       "</style>\n",
       "<table border=\"1\" class=\"dataframe\">\n",
       "  <thead>\n",
       "    <tr style=\"text-align: right;\">\n",
       "      <th></th>\n",
       "      <th>label</th>\n",
       "      <th>pixel0</th>\n",
       "      <th>pixel1</th>\n",
       "      <th>pixel2</th>\n",
       "      <th>pixel3</th>\n",
       "      <th>pixel4</th>\n",
       "      <th>pixel5</th>\n",
       "      <th>pixel6</th>\n",
       "      <th>pixel7</th>\n",
       "      <th>pixel8</th>\n",
       "      <th>...</th>\n",
       "      <th>pixel774</th>\n",
       "      <th>pixel775</th>\n",
       "      <th>pixel776</th>\n",
       "      <th>pixel777</th>\n",
       "      <th>pixel778</th>\n",
       "      <th>pixel779</th>\n",
       "      <th>pixel780</th>\n",
       "      <th>pixel781</th>\n",
       "      <th>pixel782</th>\n",
       "      <th>pixel783</th>\n",
       "    </tr>\n",
       "  </thead>\n",
       "  <tbody>\n",
       "    <tr>\n",
       "      <th>0</th>\n",
       "      <td>1</td>\n",
       "      <td>0</td>\n",
       "      <td>0</td>\n",
       "      <td>0</td>\n",
       "      <td>0</td>\n",
       "      <td>0</td>\n",
       "      <td>0</td>\n",
       "      <td>0</td>\n",
       "      <td>0</td>\n",
       "      <td>0</td>\n",
       "      <td>...</td>\n",
       "      <td>0</td>\n",
       "      <td>0</td>\n",
       "      <td>0</td>\n",
       "      <td>0</td>\n",
       "      <td>0</td>\n",
       "      <td>0</td>\n",
       "      <td>0</td>\n",
       "      <td>0</td>\n",
       "      <td>0</td>\n",
       "      <td>0</td>\n",
       "    </tr>\n",
       "    <tr>\n",
       "      <th>1</th>\n",
       "      <td>0</td>\n",
       "      <td>0</td>\n",
       "      <td>0</td>\n",
       "      <td>0</td>\n",
       "      <td>0</td>\n",
       "      <td>0</td>\n",
       "      <td>0</td>\n",
       "      <td>0</td>\n",
       "      <td>0</td>\n",
       "      <td>0</td>\n",
       "      <td>...</td>\n",
       "      <td>0</td>\n",
       "      <td>0</td>\n",
       "      <td>0</td>\n",
       "      <td>0</td>\n",
       "      <td>0</td>\n",
       "      <td>0</td>\n",
       "      <td>0</td>\n",
       "      <td>0</td>\n",
       "      <td>0</td>\n",
       "      <td>0</td>\n",
       "    </tr>\n",
       "    <tr>\n",
       "      <th>2</th>\n",
       "      <td>1</td>\n",
       "      <td>0</td>\n",
       "      <td>0</td>\n",
       "      <td>0</td>\n",
       "      <td>0</td>\n",
       "      <td>0</td>\n",
       "      <td>0</td>\n",
       "      <td>0</td>\n",
       "      <td>0</td>\n",
       "      <td>0</td>\n",
       "      <td>...</td>\n",
       "      <td>0</td>\n",
       "      <td>0</td>\n",
       "      <td>0</td>\n",
       "      <td>0</td>\n",
       "      <td>0</td>\n",
       "      <td>0</td>\n",
       "      <td>0</td>\n",
       "      <td>0</td>\n",
       "      <td>0</td>\n",
       "      <td>0</td>\n",
       "    </tr>\n",
       "    <tr>\n",
       "      <th>3</th>\n",
       "      <td>4</td>\n",
       "      <td>0</td>\n",
       "      <td>0</td>\n",
       "      <td>0</td>\n",
       "      <td>0</td>\n",
       "      <td>0</td>\n",
       "      <td>0</td>\n",
       "      <td>0</td>\n",
       "      <td>0</td>\n",
       "      <td>0</td>\n",
       "      <td>...</td>\n",
       "      <td>0</td>\n",
       "      <td>0</td>\n",
       "      <td>0</td>\n",
       "      <td>0</td>\n",
       "      <td>0</td>\n",
       "      <td>0</td>\n",
       "      <td>0</td>\n",
       "      <td>0</td>\n",
       "      <td>0</td>\n",
       "      <td>0</td>\n",
       "    </tr>\n",
       "    <tr>\n",
       "      <th>4</th>\n",
       "      <td>0</td>\n",
       "      <td>0</td>\n",
       "      <td>0</td>\n",
       "      <td>0</td>\n",
       "      <td>0</td>\n",
       "      <td>0</td>\n",
       "      <td>0</td>\n",
       "      <td>0</td>\n",
       "      <td>0</td>\n",
       "      <td>0</td>\n",
       "      <td>...</td>\n",
       "      <td>0</td>\n",
       "      <td>0</td>\n",
       "      <td>0</td>\n",
       "      <td>0</td>\n",
       "      <td>0</td>\n",
       "      <td>0</td>\n",
       "      <td>0</td>\n",
       "      <td>0</td>\n",
       "      <td>0</td>\n",
       "      <td>0</td>\n",
       "    </tr>\n",
       "  </tbody>\n",
       "</table>\n",
       "<p>5 rows × 785 columns</p>\n",
       "</div>"
      ],
      "text/plain": [
       "   label  pixel0  pixel1  pixel2  pixel3  pixel4  pixel5  pixel6  pixel7  \\\n",
       "0      1       0       0       0       0       0       0       0       0   \n",
       "1      0       0       0       0       0       0       0       0       0   \n",
       "2      1       0       0       0       0       0       0       0       0   \n",
       "3      4       0       0       0       0       0       0       0       0   \n",
       "4      0       0       0       0       0       0       0       0       0   \n",
       "\n",
       "   pixel8  ...  pixel774  pixel775  pixel776  pixel777  pixel778  pixel779  \\\n",
       "0       0  ...         0         0         0         0         0         0   \n",
       "1       0  ...         0         0         0         0         0         0   \n",
       "2       0  ...         0         0         0         0         0         0   \n",
       "3       0  ...         0         0         0         0         0         0   \n",
       "4       0  ...         0         0         0         0         0         0   \n",
       "\n",
       "   pixel780  pixel781  pixel782  pixel783  \n",
       "0         0         0         0         0  \n",
       "1         0         0         0         0  \n",
       "2         0         0         0         0  \n",
       "3         0         0         0         0  \n",
       "4         0         0         0         0  \n",
       "\n",
       "[5 rows x 785 columns]"
      ]
     },
     "execution_count": 2,
     "metadata": {},
     "output_type": "execute_result"
    }
   ],
   "source": [
    "train = pd.read_csv('../input/digit-recognizer/train.csv')\n",
    "test = pd.read_csv('../input/digit-recognizer/test.csv')\n",
    "\n",
    "train.head()"
   ]
  },
  {
   "cell_type": "code",
   "execution_count": 3,
   "metadata": {
    "execution": {
     "iopub.execute_input": "2020-12-07T13:54:06.440636Z",
     "iopub.status.busy": "2020-12-07T13:54:06.433013Z",
     "iopub.status.idle": "2020-12-07T13:54:06.445045Z",
     "shell.execute_reply": "2020-12-07T13:54:06.445561Z"
    },
    "papermill": {
     "duration": 0.049987,
     "end_time": "2020-12-07T13:54:06.445732",
     "exception": false,
     "start_time": "2020-12-07T13:54:06.395745",
     "status": "completed"
    },
    "tags": []
   },
   "outputs": [
    {
     "data": {
      "text/html": [
       "<div>\n",
       "<style scoped>\n",
       "    .dataframe tbody tr th:only-of-type {\n",
       "        vertical-align: middle;\n",
       "    }\n",
       "\n",
       "    .dataframe tbody tr th {\n",
       "        vertical-align: top;\n",
       "    }\n",
       "\n",
       "    .dataframe thead th {\n",
       "        text-align: right;\n",
       "    }\n",
       "</style>\n",
       "<table border=\"1\" class=\"dataframe\">\n",
       "  <thead>\n",
       "    <tr style=\"text-align: right;\">\n",
       "      <th></th>\n",
       "      <th>pixel0</th>\n",
       "      <th>pixel1</th>\n",
       "      <th>pixel2</th>\n",
       "      <th>pixel3</th>\n",
       "      <th>pixel4</th>\n",
       "      <th>pixel5</th>\n",
       "      <th>pixel6</th>\n",
       "      <th>pixel7</th>\n",
       "      <th>pixel8</th>\n",
       "      <th>pixel9</th>\n",
       "      <th>...</th>\n",
       "      <th>pixel774</th>\n",
       "      <th>pixel775</th>\n",
       "      <th>pixel776</th>\n",
       "      <th>pixel777</th>\n",
       "      <th>pixel778</th>\n",
       "      <th>pixel779</th>\n",
       "      <th>pixel780</th>\n",
       "      <th>pixel781</th>\n",
       "      <th>pixel782</th>\n",
       "      <th>pixel783</th>\n",
       "    </tr>\n",
       "  </thead>\n",
       "  <tbody>\n",
       "    <tr>\n",
       "      <th>0</th>\n",
       "      <td>0</td>\n",
       "      <td>0</td>\n",
       "      <td>0</td>\n",
       "      <td>0</td>\n",
       "      <td>0</td>\n",
       "      <td>0</td>\n",
       "      <td>0</td>\n",
       "      <td>0</td>\n",
       "      <td>0</td>\n",
       "      <td>0</td>\n",
       "      <td>...</td>\n",
       "      <td>0</td>\n",
       "      <td>0</td>\n",
       "      <td>0</td>\n",
       "      <td>0</td>\n",
       "      <td>0</td>\n",
       "      <td>0</td>\n",
       "      <td>0</td>\n",
       "      <td>0</td>\n",
       "      <td>0</td>\n",
       "      <td>0</td>\n",
       "    </tr>\n",
       "    <tr>\n",
       "      <th>1</th>\n",
       "      <td>0</td>\n",
       "      <td>0</td>\n",
       "      <td>0</td>\n",
       "      <td>0</td>\n",
       "      <td>0</td>\n",
       "      <td>0</td>\n",
       "      <td>0</td>\n",
       "      <td>0</td>\n",
       "      <td>0</td>\n",
       "      <td>0</td>\n",
       "      <td>...</td>\n",
       "      <td>0</td>\n",
       "      <td>0</td>\n",
       "      <td>0</td>\n",
       "      <td>0</td>\n",
       "      <td>0</td>\n",
       "      <td>0</td>\n",
       "      <td>0</td>\n",
       "      <td>0</td>\n",
       "      <td>0</td>\n",
       "      <td>0</td>\n",
       "    </tr>\n",
       "    <tr>\n",
       "      <th>2</th>\n",
       "      <td>0</td>\n",
       "      <td>0</td>\n",
       "      <td>0</td>\n",
       "      <td>0</td>\n",
       "      <td>0</td>\n",
       "      <td>0</td>\n",
       "      <td>0</td>\n",
       "      <td>0</td>\n",
       "      <td>0</td>\n",
       "      <td>0</td>\n",
       "      <td>...</td>\n",
       "      <td>0</td>\n",
       "      <td>0</td>\n",
       "      <td>0</td>\n",
       "      <td>0</td>\n",
       "      <td>0</td>\n",
       "      <td>0</td>\n",
       "      <td>0</td>\n",
       "      <td>0</td>\n",
       "      <td>0</td>\n",
       "      <td>0</td>\n",
       "    </tr>\n",
       "    <tr>\n",
       "      <th>3</th>\n",
       "      <td>0</td>\n",
       "      <td>0</td>\n",
       "      <td>0</td>\n",
       "      <td>0</td>\n",
       "      <td>0</td>\n",
       "      <td>0</td>\n",
       "      <td>0</td>\n",
       "      <td>0</td>\n",
       "      <td>0</td>\n",
       "      <td>0</td>\n",
       "      <td>...</td>\n",
       "      <td>0</td>\n",
       "      <td>0</td>\n",
       "      <td>0</td>\n",
       "      <td>0</td>\n",
       "      <td>0</td>\n",
       "      <td>0</td>\n",
       "      <td>0</td>\n",
       "      <td>0</td>\n",
       "      <td>0</td>\n",
       "      <td>0</td>\n",
       "    </tr>\n",
       "    <tr>\n",
       "      <th>4</th>\n",
       "      <td>0</td>\n",
       "      <td>0</td>\n",
       "      <td>0</td>\n",
       "      <td>0</td>\n",
       "      <td>0</td>\n",
       "      <td>0</td>\n",
       "      <td>0</td>\n",
       "      <td>0</td>\n",
       "      <td>0</td>\n",
       "      <td>0</td>\n",
       "      <td>...</td>\n",
       "      <td>0</td>\n",
       "      <td>0</td>\n",
       "      <td>0</td>\n",
       "      <td>0</td>\n",
       "      <td>0</td>\n",
       "      <td>0</td>\n",
       "      <td>0</td>\n",
       "      <td>0</td>\n",
       "      <td>0</td>\n",
       "      <td>0</td>\n",
       "    </tr>\n",
       "  </tbody>\n",
       "</table>\n",
       "<p>5 rows × 784 columns</p>\n",
       "</div>"
      ],
      "text/plain": [
       "   pixel0  pixel1  pixel2  pixel3  pixel4  pixel5  pixel6  pixel7  pixel8  \\\n",
       "0       0       0       0       0       0       0       0       0       0   \n",
       "1       0       0       0       0       0       0       0       0       0   \n",
       "2       0       0       0       0       0       0       0       0       0   \n",
       "3       0       0       0       0       0       0       0       0       0   \n",
       "4       0       0       0       0       0       0       0       0       0   \n",
       "\n",
       "   pixel9  ...  pixel774  pixel775  pixel776  pixel777  pixel778  pixel779  \\\n",
       "0       0  ...         0         0         0         0         0         0   \n",
       "1       0  ...         0         0         0         0         0         0   \n",
       "2       0  ...         0         0         0         0         0         0   \n",
       "3       0  ...         0         0         0         0         0         0   \n",
       "4       0  ...         0         0         0         0         0         0   \n",
       "\n",
       "   pixel780  pixel781  pixel782  pixel783  \n",
       "0         0         0         0         0  \n",
       "1         0         0         0         0  \n",
       "2         0         0         0         0  \n",
       "3         0         0         0         0  \n",
       "4         0         0         0         0  \n",
       "\n",
       "[5 rows x 784 columns]"
      ]
     },
     "execution_count": 3,
     "metadata": {},
     "output_type": "execute_result"
    }
   ],
   "source": [
    "test.head()"
   ]
  },
  {
   "cell_type": "markdown",
   "metadata": {
    "papermill": {
     "duration": 0.025545,
     "end_time": "2020-12-07T13:54:06.497505",
     "exception": false,
     "start_time": "2020-12-07T13:54:06.471960",
     "status": "completed"
    },
    "tags": []
   },
   "source": [
    "# Processing the data"
   ]
  },
  {
   "cell_type": "markdown",
   "metadata": {
    "papermill": {
     "duration": 0.025646,
     "end_time": "2020-12-07T13:54:06.549112",
     "exception": false,
     "start_time": "2020-12-07T13:54:06.523466",
     "status": "completed"
    },
    "tags": []
   },
   "source": [
    "## Data separation"
   ]
  },
  {
   "cell_type": "code",
   "execution_count": 4,
   "metadata": {
    "execution": {
     "iopub.execute_input": "2020-12-07T13:54:06.607501Z",
     "iopub.status.busy": "2020-12-07T13:54:06.606580Z",
     "iopub.status.idle": "2020-12-07T13:54:06.611379Z",
     "shell.execute_reply": "2020-12-07T13:54:06.610729Z"
    },
    "papermill": {
     "duration": 0.036438,
     "end_time": "2020-12-07T13:54:06.611495",
     "exception": false,
     "start_time": "2020-12-07T13:54:06.575057",
     "status": "completed"
    },
    "tags": []
   },
   "outputs": [
    {
     "name": "stdout",
     "output_type": "stream",
     "text": [
      "(42000, 784) ,  (42000,)\n"
     ]
    }
   ],
   "source": [
    "X_train = train.iloc[:,1:]\n",
    "Y_train = train.iloc[:,0]\n",
    "\n",
    "print(X_train.shape, ', ', Y_train.shape)"
   ]
  },
  {
   "cell_type": "markdown",
   "metadata": {
    "papermill": {
     "duration": 0.026088,
     "end_time": "2020-12-07T13:54:06.664164",
     "exception": false,
     "start_time": "2020-12-07T13:54:06.638076",
     "status": "completed"
    },
    "tags": []
   },
   "source": [
    "## Data normalization"
   ]
  },
  {
   "cell_type": "code",
   "execution_count": 5,
   "metadata": {
    "execution": {
     "iopub.execute_input": "2020-12-07T13:54:06.722848Z",
     "iopub.status.busy": "2020-12-07T13:54:06.722137Z",
     "iopub.status.idle": "2020-12-07T13:54:06.889895Z",
     "shell.execute_reply": "2020-12-07T13:54:06.890709Z"
    },
    "papermill": {
     "duration": 0.200251,
     "end_time": "2020-12-07T13:54:06.890922",
     "exception": false,
     "start_time": "2020-12-07T13:54:06.690671",
     "status": "completed"
    },
    "tags": []
   },
   "outputs": [
    {
     "name": "stdout",
     "output_type": "stream",
     "text": [
      "(42000, 784) ,  (28000, 784)\n"
     ]
    }
   ],
   "source": [
    "X_train = X_train/255\n",
    "test = test/255\n",
    "\n",
    "print(X_train.shape, ', ', test.shape)"
   ]
  },
  {
   "cell_type": "markdown",
   "metadata": {
    "papermill": {
     "duration": 0.026807,
     "end_time": "2020-12-07T13:54:06.945481",
     "exception": false,
     "start_time": "2020-12-07T13:54:06.918674",
     "status": "completed"
    },
    "tags": []
   },
   "source": [
    "## Data reshaping"
   ]
  },
  {
   "cell_type": "markdown",
   "metadata": {
    "papermill": {
     "duration": 0.026811,
     "end_time": "2020-12-07T13:54:06.999435",
     "exception": false,
     "start_time": "2020-12-07T13:54:06.972624",
     "status": "completed"
    },
    "tags": []
   },
   "source": [
    "*To process the data we need to reshape 784 pixels of each entry into (28, 28, 1)*"
   ]
  },
  {
   "cell_type": "code",
   "execution_count": 6,
   "metadata": {
    "execution": {
     "iopub.execute_input": "2020-12-07T13:54:07.061576Z",
     "iopub.status.busy": "2020-12-07T13:54:07.060817Z",
     "iopub.status.idle": "2020-12-07T13:54:07.064891Z",
     "shell.execute_reply": "2020-12-07T13:54:07.063960Z"
    },
    "papermill": {
     "duration": 0.038288,
     "end_time": "2020-12-07T13:54:07.065043",
     "exception": false,
     "start_time": "2020-12-07T13:54:07.026755",
     "status": "completed"
    },
    "tags": []
   },
   "outputs": [
    {
     "name": "stdout",
     "output_type": "stream",
     "text": [
      "(42000, 28, 28, 1) ,  (28000, 28, 28, 1)\n"
     ]
    }
   ],
   "source": [
    "X_train = X_train.values.reshape(-1,28,28,1)\n",
    "test = test.values.reshape(-1,28,28,1)\n",
    "\n",
    "print(X_train.shape,', ', test.shape)"
   ]
  },
  {
   "cell_type": "markdown",
   "metadata": {
    "papermill": {
     "duration": 0.027345,
     "end_time": "2020-12-07T13:54:07.121106",
     "exception": false,
     "start_time": "2020-12-07T13:54:07.093761",
     "status": "completed"
    },
    "tags": []
   },
   "source": [
    "## Data splitting"
   ]
  },
  {
   "cell_type": "code",
   "execution_count": 7,
   "metadata": {
    "execution": {
     "iopub.execute_input": "2020-12-07T13:54:07.183873Z",
     "iopub.status.busy": "2020-12-07T13:54:07.183135Z",
     "iopub.status.idle": "2020-12-07T13:54:07.633389Z",
     "shell.execute_reply": "2020-12-07T13:54:07.632759Z"
    },
    "papermill": {
     "duration": 0.484683,
     "end_time": "2020-12-07T13:54:07.633522",
     "exception": false,
     "start_time": "2020-12-07T13:54:07.148839",
     "status": "completed"
    },
    "tags": []
   },
   "outputs": [],
   "source": [
    "X_train, X_test, Y_train, Y_test = train_test_split(X_train, Y_train, test_size = 0.2)"
   ]
  },
  {
   "cell_type": "markdown",
   "metadata": {
    "papermill": {
     "duration": 0.027633,
     "end_time": "2020-12-07T13:54:07.689183",
     "exception": false,
     "start_time": "2020-12-07T13:54:07.661550",
     "status": "completed"
    },
    "tags": []
   },
   "source": [
    "*Here we look at the examples of each digit*"
   ]
  },
  {
   "cell_type": "code",
   "execution_count": 8,
   "metadata": {
    "execution": {
     "iopub.execute_input": "2020-12-07T13:54:07.755999Z",
     "iopub.status.busy": "2020-12-07T13:54:07.755262Z",
     "iopub.status.idle": "2020-12-07T13:54:09.225702Z",
     "shell.execute_reply": "2020-12-07T13:54:09.225134Z"
    },
    "papermill": {
     "duration": 1.508639,
     "end_time": "2020-12-07T13:54:09.225843",
     "exception": false,
     "start_time": "2020-12-07T13:54:07.717204",
     "status": "completed"
    },
    "tags": []
   },
   "outputs": [
    {
     "data": {
      "image/png": "[encoded data removed]",
      "text/plain": [
       "<Figure size 720x720 with 9 Axes>"
      ]
     },
     "metadata": {
      "needs_background": "light"
     },
     "output_type": "display_data"
    }
   ],
   "source": [
    "fig, ax = plt.subplots(3,3,figsize=(10,10))\n",
    "fig.suptitle('Example of each number', size = 20)\n",
    "nums, x = range(10), 0\n",
    "for i in range(3):\n",
    "    for j in range(3):\n",
    "        label = nums[x]\n",
    "        numbers_pixels = train[train['label'] == label]\n",
    "        img = numbers_pixels.iloc[0,1:].values\n",
    "        img = img.reshape((28,28))\n",
    "        ax[i][j].imshow(img, cmap = plt.cm.binary)\n",
    "        ax[i][j].set_title(\"Number: \" + str(label))\n",
    "        x += 1"
   ]
  },
  {
   "cell_type": "markdown",
   "metadata": {
    "papermill": {
     "duration": 0.030055,
     "end_time": "2020-12-07T13:54:09.286310",
     "exception": false,
     "start_time": "2020-12-07T13:54:09.256255",
     "status": "completed"
    },
    "tags": []
   },
   "source": [
    "# Initial model"
   ]
  },
  {
   "cell_type": "markdown",
   "metadata": {
    "papermill": {
     "duration": 0.029855,
     "end_time": "2020-12-07T13:54:09.346393",
     "exception": false,
     "start_time": "2020-12-07T13:54:09.316538",
     "status": "completed"
    },
    "tags": []
   },
   "source": [
    "*This is a model with 11 layers such as convolutional layer, pooling layer, flatten layer and fully-connected(dense) layer. Final layer will make a predictions*"
   ]
  },
  {
   "cell_type": "code",
   "execution_count": 9,
   "metadata": {
    "execution": {
     "iopub.execute_input": "2020-12-07T13:54:09.422543Z",
     "iopub.status.busy": "2020-12-07T13:54:09.421759Z",
     "iopub.status.idle": "2020-12-07T13:54:09.625739Z",
     "shell.execute_reply": "2020-12-07T13:54:09.625089Z"
    },
    "papermill": {
     "duration": 0.248002,
     "end_time": "2020-12-07T13:54:09.625883",
     "exception": false,
     "start_time": "2020-12-07T13:54:09.377881",
     "status": "completed"
    },
    "tags": []
   },
   "outputs": [],
   "source": [
    "model = Sequential()\n",
    "\n",
    "model.add(Conv2D(32, kernel_size = (3, 3), activation = 'relu', input_shape = (28, 28, 1)))\n",
    "BatchNormalization(axis = -1)\n",
    "model.add(Conv2D(32, kernel_size = (3, 3), activation = 'relu'))\n",
    "model.add(MaxPooling2D(pool_size = (2, 2), strides = 2, padding = \"valid\"))\n",
    "BatchNormalization(axis = -1)         \n",
    "model.add(Conv2D(64, kernel_size = (3, 3), activation = 'relu'))\n",
    "BatchNormalization(axis = -1)\n",
    "model.add(Conv2D(64, kernel_size = (3, 3), activation = 'relu'))\n",
    "model.add(MaxPooling2D(pool_size = (2, 2), strides = 2, padding = \"valid\"))\n",
    "model.add(Flatten())\n",
    "BatchNormalization(axis = -1)         \n",
    "model.add(Dense(512, activation = 'relu'))\n",
    "BatchNormalization(axis = -1)\n",
    "model.add(Dropout(0.2))\n",
    "model.add(Dense(units = 256, activation = 'relu'))\n",
    "model.add(Dense(units = 10, activation = 'softmax'))"
   ]
  },
  {
   "cell_type": "markdown",
   "metadata": {
    "papermill": {
     "duration": 0.029848,
     "end_time": "2020-12-07T13:54:09.685951",
     "exception": false,
     "start_time": "2020-12-07T13:54:09.656103",
     "status": "completed"
    },
    "tags": []
   },
   "source": [
    "## Compile the model"
   ]
  },
  {
   "cell_type": "markdown",
   "metadata": {
    "papermill": {
     "duration": 0.030131,
     "end_time": "2020-12-07T13:54:09.746195",
     "exception": false,
     "start_time": "2020-12-07T13:54:09.716064",
     "status": "completed"
    },
    "tags": []
   },
   "source": [
    "*We can use different optimizers such as Adam, SGD, RMSprop, Adadelta, Adagrad, Adamax, Nadam, Ftrl. In this model we use Adam optimizer*"
   ]
  },
  {
   "cell_type": "code",
   "execution_count": 10,
   "metadata": {
    "execution": {
     "iopub.execute_input": "2020-12-07T13:54:09.821950Z",
     "iopub.status.busy": "2020-12-07T13:54:09.821162Z",
     "iopub.status.idle": "2020-12-07T13:54:09.827552Z",
     "shell.execute_reply": "2020-12-07T13:54:09.828157Z"
    },
    "papermill": {
     "duration": 0.05109,
     "end_time": "2020-12-07T13:54:09.828315",
     "exception": false,
     "start_time": "2020-12-07T13:54:09.777225",
     "status": "completed"
    },
    "tags": []
   },
   "outputs": [],
   "source": [
    "opt = Adam()\n",
    "model.compile(optimizer = opt, loss = SCC(), metrics = ['accuracy'])"
   ]
  },
  {
   "cell_type": "markdown",
   "metadata": {
    "papermill": {
     "duration": 0.03024,
     "end_time": "2020-12-07T13:54:09.889341",
     "exception": false,
     "start_time": "2020-12-07T13:54:09.859101",
     "status": "completed"
    },
    "tags": []
   },
   "source": [
    "*Using the method ```summary()``` we can see layers' types, output shape and amount of parameters*"
   ]
  },
  {
   "cell_type": "code",
   "execution_count": 11,
   "metadata": {
    "execution": {
     "iopub.execute_input": "2020-12-07T13:54:09.958819Z",
     "iopub.status.busy": "2020-12-07T13:54:09.957898Z",
     "iopub.status.idle": "2020-12-07T13:54:09.966935Z",
     "shell.execute_reply": "2020-12-07T13:54:09.966172Z"
    },
    "papermill": {
     "duration": 0.04734,
     "end_time": "2020-12-07T13:54:09.967059",
     "exception": false,
     "start_time": "2020-12-07T13:54:09.919719",
     "status": "completed"
    },
    "tags": []
   },
   "outputs": [
    {
     "name": "stdout",
     "output_type": "stream",
     "text": [
      "Model: \"sequential\"\n",
      "_________________________________________________________________\n",
      "Layer (type)                 Output Shape              Param #   \n",
      "=================================================================\n",
      "conv2d (Conv2D)              (None, 26, 26, 32)        320       \n",
      "_________________________________________________________________\n",
      "conv2d_1 (Conv2D)            (None, 24, 24, 32)        9248      \n",
      "_________________________________________________________________\n",
      "max_pooling2d (MaxPooling2D) (None, 12, 12, 32)        0         \n",
      "_________________________________________________________________\n",
      "conv2d_2 (Conv2D)            (None, 10, 10, 64)        18496     \n",
      "_________________________________________________________________\n",
      "conv2d_3 (Conv2D)            (None, 8, 8, 64)          36928     \n",
      "_________________________________________________________________\n",
      "max_pooling2d_1 (MaxPooling2 (None, 4, 4, 64)          0         \n",
      "_________________________________________________________________\n",
      "flatten (Flatten)            (None, 1024)              0         \n",
      "_________________________________________________________________\n",
      "dense (Dense)                (None, 512)               524800    \n",
      "_________________________________________________________________\n",
      "dropout (Dropout)            (None, 512)               0         \n",
      "_________________________________________________________________\n",
      "dense_1 (Dense)              (None, 256)               131328    \n",
      "_________________________________________________________________\n",
      "dense_2 (Dense)              (None, 10)                2570      \n",
      "=================================================================\n",
      "Total params: 723,690\n",
      "Trainable params: 723,690\n",
      "Non-trainable params: 0\n",
      "_________________________________________________________________\n"
     ]
    }
   ],
   "source": [
    "model.summary()"
   ]
  },
  {
   "cell_type": "markdown",
   "metadata": {
    "papermill": {
     "duration": 0.030395,
     "end_time": "2020-12-07T13:54:10.028657",
     "exception": false,
     "start_time": "2020-12-07T13:54:09.998262",
     "status": "completed"
    },
    "tags": []
   },
   "source": [
    "## Fit the model"
   ]
  },
  {
   "cell_type": "code",
   "execution_count": 12,
   "metadata": {
    "execution": {
     "iopub.execute_input": "2020-12-07T13:54:10.096130Z",
     "iopub.status.busy": "2020-12-07T13:54:10.095383Z",
     "iopub.status.idle": "2020-12-07T14:05:49.610367Z",
     "shell.execute_reply": "2020-12-07T14:05:49.609675Z"
    },
    "papermill": {
     "duration": 699.551034,
     "end_time": "2020-12-07T14:05:49.610501",
     "exception": false,
     "start_time": "2020-12-07T13:54:10.059467",
     "status": "completed"
    },
    "tags": []
   },
   "outputs": [
    {
     "name": "stdout",
     "output_type": "stream",
     "text": [
      "Epoch 1/15\n",
      "1050/1050 [==============================] - 46s 44ms/step - loss: 0.1684 - accuracy: 0.9459 - val_loss: 0.0685 - val_accuracy: 0.9792\n",
      "Epoch 2/15\n",
      "1050/1050 [==============================] - 46s 44ms/step - loss: 0.0542 - accuracy: 0.9838 - val_loss: 0.1019 - val_accuracy: 0.9710\n",
      "Epoch 3/15\n",
      "1050/1050 [==============================] - 46s 44ms/step - loss: 0.0365 - accuracy: 0.9886 - val_loss: 0.0498 - val_accuracy: 0.9868\n",
      "Epoch 4/15\n",
      "1050/1050 [==============================] - 46s 44ms/step - loss: 0.0304 - accuracy: 0.9911 - val_loss: 0.0488 - val_accuracy: 0.9869\n",
      "Epoch 5/15\n",
      "1050/1050 [==============================] - 46s 44ms/step - loss: 0.0270 - accuracy: 0.9921 - val_loss: 0.0507 - val_accuracy: 0.9873\n",
      "Epoch 6/15\n",
      "1050/1050 [==============================] - 46s 44ms/step - loss: 0.0208 - accuracy: 0.9935 - val_loss: 0.0534 - val_accuracy: 0.9874\n",
      "Epoch 7/15\n",
      "1050/1050 [==============================] - 47s 44ms/step - loss: 0.0182 - accuracy: 0.9944 - val_loss: 0.0434 - val_accuracy: 0.9890\n",
      "Epoch 8/15\n",
      "1050/1050 [==============================] - 46s 44ms/step - loss: 0.0182 - accuracy: 0.9944 - val_loss: 0.0692 - val_accuracy: 0.9855\n",
      "Epoch 9/15\n",
      "1050/1050 [==============================] - 47s 44ms/step - loss: 0.0133 - accuracy: 0.9962 - val_loss: 0.0611 - val_accuracy: 0.9879\n",
      "Epoch 10/15\n",
      "1050/1050 [==============================] - 46s 44ms/step - loss: 0.0137 - accuracy: 0.9959 - val_loss: 0.0533 - val_accuracy: 0.9871\n",
      "Epoch 11/15\n",
      "1050/1050 [==============================] - 47s 45ms/step - loss: 0.0141 - accuracy: 0.9956 - val_loss: 0.0878 - val_accuracy: 0.9840\n",
      "Epoch 12/15\n",
      "1050/1050 [==============================] - 48s 45ms/step - loss: 0.0114 - accuracy: 0.9964 - val_loss: 0.0486 - val_accuracy: 0.9900\n",
      "Epoch 13/15\n",
      "1050/1050 [==============================] - 47s 44ms/step - loss: 0.0107 - accuracy: 0.9968 - val_loss: 0.0607 - val_accuracy: 0.9882\n",
      "Epoch 14/15\n",
      "1050/1050 [==============================] - 46s 44ms/step - loss: 0.0093 - accuracy: 0.9973 - val_loss: 0.0535 - val_accuracy: 0.9896\n",
      "Epoch 15/15\n",
      "1050/1050 [==============================] - 48s 46ms/step - loss: 0.0111 - accuracy: 0.9970 - val_loss: 0.0524 - val_accuracy: 0.9906\n"
     ]
    },
    {
     "data": {
      "text/plain": [
       "<tensorflow.python.keras.callbacks.History at 0x7f88b29db950>"
      ]
     },
     "execution_count": 12,
     "metadata": {},
     "output_type": "execute_result"
    }
   ],
   "source": [
    "model.fit(X_train, Y_train, batch_size = 32, epochs = 15, validation_data = (X_test, Y_test))"
   ]
  },
  {
   "cell_type": "markdown",
   "metadata": {
    "papermill": {
     "duration": 3.557046,
     "end_time": "2020-12-07T14:05:56.690063",
     "exception": false,
     "start_time": "2020-12-07T14:05:53.133017",
     "status": "completed"
    },
    "tags": []
   },
   "source": [
    "## Predictions and accuracy"
   ]
  },
  {
   "cell_type": "markdown",
   "metadata": {
    "papermill": {
     "duration": 3.586699,
     "end_time": "2020-12-07T14:06:03.793913",
     "exception": false,
     "start_time": "2020-12-07T14:06:00.207214",
     "status": "completed"
    },
    "tags": []
   },
   "source": [
    "*Generate predictions on the test data using `predict()`*"
   ]
  },
  {
   "cell_type": "code",
   "execution_count": 13,
   "metadata": {
    "execution": {
     "iopub.execute_input": "2020-12-07T14:06:10.799216Z",
     "iopub.status.busy": "2020-12-07T14:06:10.798120Z",
     "iopub.status.idle": "2020-12-07T14:06:20.488841Z",
     "shell.execute_reply": "2020-12-07T14:06:20.488090Z"
    },
    "papermill": {
     "duration": 13.185124,
     "end_time": "2020-12-07T14:06:20.488979",
     "exception": false,
     "start_time": "2020-12-07T14:06:07.303855",
     "status": "completed"
    },
    "tags": []
   },
   "outputs": [
    {
     "name": "stdout",
     "output_type": "stream",
     "text": [
      "(28000,)\n"
     ]
    }
   ],
   "source": [
    "probabilities = model.predict(test)\n",
    "y_pred = np.argmax(probabilities, axis=1)\n",
    "print(y_pred.shape)"
   ]
  },
  {
   "cell_type": "markdown",
   "metadata": {
    "papermill": {
     "duration": 3.541473,
     "end_time": "2020-12-07T14:06:27.565456",
     "exception": false,
     "start_time": "2020-12-07T14:06:24.023983",
     "status": "completed"
    },
    "tags": []
   },
   "source": [
    "*We evaluate the model on the train data via evaluate()*"
   ]
  },
  {
   "cell_type": "code",
   "execution_count": 14,
   "metadata": {
    "execution": {
     "iopub.execute_input": "2020-12-07T14:06:34.586843Z",
     "iopub.status.busy": "2020-12-07T14:06:34.585422Z",
     "iopub.status.idle": "2020-12-07T14:06:44.778711Z",
     "shell.execute_reply": "2020-12-07T14:06:44.777742Z"
    },
    "papermill": {
     "duration": 13.728035,
     "end_time": "2020-12-07T14:06:44.778885",
     "exception": false,
     "start_time": "2020-12-07T14:06:31.050850",
     "status": "completed"
    },
    "tags": []
   },
   "outputs": [
    {
     "name": "stdout",
     "output_type": "stream",
     "text": [
      "Evaluate on test data\n",
      "525/525 [==============================] - 10s 19ms/step - loss: 0.0032 - accuracy: 0.9991\n",
      "Test loss:  0.003161886241286993 , test accuracy:  0.9991369247436523\n"
     ]
    }
   ],
   "source": [
    "print(\"Evaluate on test data\")\n",
    "results = model.evaluate(X_train, Y_train, batch_size=64)\n",
    "print('Test loss: ', results[0],', test accuracy: ', results[1])"
   ]
  },
  {
   "cell_type": "markdown",
   "metadata": {
    "papermill": {
     "duration": 3.607925,
     "end_time": "2020-12-07T14:06:52.017203",
     "exception": false,
     "start_time": "2020-12-07T14:06:48.409278",
     "status": "completed"
    },
    "tags": []
   },
   "source": [
    "*Here we can look how good our model works on the test data*"
   ]
  },
  {
   "cell_type": "code",
   "execution_count": 15,
   "metadata": {
    "execution": {
     "iopub.execute_input": "2020-12-07T14:06:59.163211Z",
     "iopub.status.busy": "2020-12-07T14:06:59.161858Z",
     "iopub.status.idle": "2020-12-07T14:07:01.651762Z",
     "shell.execute_reply": "2020-12-07T14:07:01.651042Z"
    },
    "papermill": {
     "duration": 6.086228,
     "end_time": "2020-12-07T14:07:01.651916",
     "exception": false,
     "start_time": "2020-12-07T14:06:55.565688",
     "status": "completed"
    },
    "tags": []
   },
   "outputs": [
    {
     "name": "stdout",
     "output_type": "stream",
     "text": [
      "Evaluate on test data\n",
      "132/132 [==============================] - 2s 18ms/step - loss: 0.0524 - accuracy: 0.9906\n",
      "Test loss:  0.052427299320697784 , test accuracy:  0.9905952215194702\n"
     ]
    }
   ],
   "source": [
    "print(\"Evaluate on test data\")\n",
    "results = model.evaluate(X_test, Y_test, batch_size=64)\n",
    "print('Test loss: ', results[0],', test accuracy: ', results[1])"
   ]
  },
  {
   "cell_type": "markdown",
   "metadata": {
    "papermill": {
     "duration": 3.570093,
     "end_time": "2020-12-07T14:07:08.831717",
     "exception": false,
     "start_time": "2020-12-07T14:07:05.261624",
     "status": "completed"
    },
    "tags": []
   },
   "source": [
    "# Initial submission"
   ]
  },
  {
   "cell_type": "code",
   "execution_count": 16,
   "metadata": {
    "execution": {
     "iopub.execute_input": "2020-12-07T14:07:16.173392Z",
     "iopub.status.busy": "2020-12-07T14:07:16.172628Z",
     "iopub.status.idle": "2020-12-07T14:07:16.650659Z",
     "shell.execute_reply": "2020-12-07T14:07:16.651252Z"
    },
    "papermill": {
     "duration": 4.114452,
     "end_time": "2020-12-07T14:07:16.651416",
     "exception": false,
     "start_time": "2020-12-07T14:07:12.536964",
     "status": "completed"
    },
    "tags": []
   },
   "outputs": [
    {
     "name": "stdout",
     "output_type": "stream",
     "text": [
      "Your submission was successfully saved!\n"
     ]
    }
   ],
   "source": [
    "submission = pd.DataFrame({'ImageId': np.arange(1, 28001), 'Label': y_pred})\n",
    "submission.to_csv(\"submission.csv\", index=False)\n",
    "print(\"Your submission was successfully saved!\")"
   ]
  }
 ],
 "metadata": {
  "kernelspec": {
   "display_name": "Python 3",
   "language": "python",
   "name": "python3"
  },
  "language_info": {
   "codemirror_mode": {
    "name": "ipython",
    "version": 3
   },
   "file_extension": ".py",
   "mimetype": "text/x-python",
   "name": "python",
   "nbconvert_exporter": "python",
   "pygments_lexer": "ipython3",
   "version": "3.7.6"
  },
  "papermill": {
   "duration": 812.49269,
   "end_time": "2020-12-07T14:07:20.426789",
   "environment_variables": {},
   "exception": null,
   "input_path": "__notebook__.ipynb",
   "output_path": "__notebook__.ipynb",
   "parameters": {},
   "start_time": "2020-12-07T13:53:47.934099",
   "version": "2.1.0"
  }
 },
 "nbformat": 4,
 "nbformat_minor": 4
}
