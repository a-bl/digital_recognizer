{
 "cells": [
  {
   "cell_type": "markdown",
   "metadata": {
    "papermill": {
     "duration": 0.035961,
     "end_time": "2020-12-09T13:51:27.869860",
     "exception": false,
     "start_time": "2020-12-09T13:51:27.833899",
     "status": "completed"
    },
    "tags": []
   },
   "source": [
    "# Welcome to digital recognizer with using CNN"
   ]
  },
  {
   "cell_type": "markdown",
   "metadata": {
    "papermill": {
     "duration": 0.034363,
     "end_time": "2020-12-09T13:51:27.939234",
     "exception": false,
     "start_time": "2020-12-09T13:51:27.904871",
     "status": "completed"
    },
    "tags": []
   },
   "source": [
    "**I would really appreciate your votes if you liked this notebook!**"
   ]
  },
  {
   "cell_type": "markdown",
   "metadata": {
    "papermill": {
     "duration": 0.034379,
     "end_time": "2020-12-09T13:51:28.008324",
     "exception": false,
     "start_time": "2020-12-09T13:51:27.973945",
     "status": "completed"
    },
    "tags": []
   },
   "source": [
    "*First we need import all required libraries*"
   ]
  },
  {
   "cell_type": "code",
   "execution_count": 1,
   "metadata": {
    "_cell_guid": "b1076dfc-b9ad-4769-8c92-a6c4dae69d19",
    "_uuid": "8f2839f25d086af736a60e9eeb907d3b93b6e0e5",
    "execution": {
     "iopub.execute_input": "2020-12-09T13:51:28.094298Z",
     "iopub.status.busy": "2020-12-09T13:51:28.093514Z",
     "iopub.status.idle": "2020-12-09T13:51:35.064579Z",
     "shell.execute_reply": "2020-12-09T13:51:35.063814Z"
    },
    "papermill": {
     "duration": 7.021432,
     "end_time": "2020-12-09T13:51:35.064711",
     "exception": false,
     "start_time": "2020-12-09T13:51:28.043279",
     "status": "completed"
    },
    "tags": []
   },
   "outputs": [],
   "source": [
    "import math\n",
    "import pandas as pd\n",
    "import numpy as np\n",
    "import tensorflow as tf\n",
    "import h5py\n",
    "import itertools\n",
    "import matplotlib.pyplot as plt\n",
    "import seaborn as sns\n",
    "from sklearn.metrics import confusion_matrix\n",
    "from sklearn.model_selection import train_test_split\n",
    "\n",
    "from keras.datasets import mnist\n",
    "from tensorflow.keras.models import Sequential, load_model\n",
    "from tensorflow.keras.optimizers import Adam, RMSprop\n",
    "from tensorflow.keras.layers import Dense, Dropout, Flatten, Conv2D, MaxPooling2D, BatchNormalization\n",
    "from keras.callbacks import ReduceLROnPlateau, ModelCheckpoint, EarlyStopping\n",
    "from keras.preprocessing.image import ImageDataGenerator\n",
    "from keras.utils.np_utils import to_categorical\n",
    "from keras.utils.vis_utils import plot_model\n",
    "\n",
    "%matplotlib inline\n",
    "np.random.seed(2)"
   ]
  },
  {
   "cell_type": "markdown",
   "metadata": {
    "papermill": {
     "duration": 0.03534,
     "end_time": "2020-12-09T13:51:35.135549",
     "exception": false,
     "start_time": "2020-12-09T13:51:35.100209",
     "status": "completed"
    },
    "tags": []
   },
   "source": [
    "# Load the data"
   ]
  },
  {
   "cell_type": "code",
   "execution_count": 2,
   "metadata": {
    "_cell_guid": "79c7e3d0-c299-4dcb-8224-4455121ee9b0",
    "_uuid": "d629ff2d2480ee46fbb7e2d37f6b5fab8052498a",
    "execution": {
     "iopub.execute_input": "2020-12-09T13:51:35.212947Z",
     "iopub.status.busy": "2020-12-09T13:51:35.212216Z",
     "iopub.status.idle": "2020-12-09T13:51:38.142450Z",
     "shell.execute_reply": "2020-12-09T13:51:38.141640Z"
    },
    "papermill": {
     "duration": 2.971819,
     "end_time": "2020-12-09T13:51:38.142577",
     "exception": false,
     "start_time": "2020-12-09T13:51:35.170758",
     "status": "completed"
    },
    "tags": []
   },
   "outputs": [],
   "source": [
    "# train = pd.read_csv('../input/digit-recognizer/train.csv')\n",
    "test = pd.read_csv('../input/digit-recognizer/test.csv')\n",
    "\n",
    "# train.head()"
   ]
  },
  {
   "cell_type": "code",
   "execution_count": 3,
   "metadata": {
    "execution": {
     "iopub.execute_input": "2020-12-09T13:51:38.226447Z",
     "iopub.status.busy": "2020-12-09T13:51:38.225652Z",
     "iopub.status.idle": "2020-12-09T13:51:38.246791Z",
     "shell.execute_reply": "2020-12-09T13:51:38.247406Z"
    },
    "papermill": {
     "duration": 0.069655,
     "end_time": "2020-12-09T13:51:38.247560",
     "exception": false,
     "start_time": "2020-12-09T13:51:38.177905",
     "status": "completed"
    },
    "tags": []
   },
   "outputs": [
    {
     "data": {
      "text/html": [
       "<div>\n",
       "<style scoped>\n",
       "    .dataframe tbody tr th:only-of-type {\n",
       "        vertical-align: middle;\n",
       "    }\n",
       "\n",
       "    .dataframe tbody tr th {\n",
       "        vertical-align: top;\n",
       "    }\n",
       "\n",
       "    .dataframe thead th {\n",
       "        text-align: right;\n",
       "    }\n",
       "</style>\n",
       "<table border=\"1\" class=\"dataframe\">\n",
       "  <thead>\n",
       "    <tr style=\"text-align: right;\">\n",
       "      <th></th>\n",
       "      <th>pixel0</th>\n",
       "      <th>pixel1</th>\n",
       "      <th>pixel2</th>\n",
       "      <th>pixel3</th>\n",
       "      <th>pixel4</th>\n",
       "      <th>pixel5</th>\n",
       "      <th>pixel6</th>\n",
       "      <th>pixel7</th>\n",
       "      <th>pixel8</th>\n",
       "      <th>pixel9</th>\n",
       "      <th>...</th>\n",
       "      <th>pixel774</th>\n",
       "      <th>pixel775</th>\n",
       "      <th>pixel776</th>\n",
       "      <th>pixel777</th>\n",
       "      <th>pixel778</th>\n",
       "      <th>pixel779</th>\n",
       "      <th>pixel780</th>\n",
       "      <th>pixel781</th>\n",
       "      <th>pixel782</th>\n",
       "      <th>pixel783</th>\n",
       "    </tr>\n",
       "  </thead>\n",
       "  <tbody>\n",
       "    <tr>\n",
       "      <th>0</th>\n",
       "      <td>0</td>\n",
       "      <td>0</td>\n",
       "      <td>0</td>\n",
       "      <td>0</td>\n",
       "      <td>0</td>\n",
       "      <td>0</td>\n",
       "      <td>0</td>\n",
       "      <td>0</td>\n",
       "      <td>0</td>\n",
       "      <td>0</td>\n",
       "      <td>...</td>\n",
       "      <td>0</td>\n",
       "      <td>0</td>\n",
       "      <td>0</td>\n",
       "      <td>0</td>\n",
       "      <td>0</td>\n",
       "      <td>0</td>\n",
       "      <td>0</td>\n",
       "      <td>0</td>\n",
       "      <td>0</td>\n",
       "      <td>0</td>\n",
       "    </tr>\n",
       "    <tr>\n",
       "      <th>1</th>\n",
       "      <td>0</td>\n",
       "      <td>0</td>\n",
       "      <td>0</td>\n",
       "      <td>0</td>\n",
       "      <td>0</td>\n",
       "      <td>0</td>\n",
       "      <td>0</td>\n",
       "      <td>0</td>\n",
       "      <td>0</td>\n",
       "      <td>0</td>\n",
       "      <td>...</td>\n",
       "      <td>0</td>\n",
       "      <td>0</td>\n",
       "      <td>0</td>\n",
       "      <td>0</td>\n",
       "      <td>0</td>\n",
       "      <td>0</td>\n",
       "      <td>0</td>\n",
       "      <td>0</td>\n",
       "      <td>0</td>\n",
       "      <td>0</td>\n",
       "    </tr>\n",
       "    <tr>\n",
       "      <th>2</th>\n",
       "      <td>0</td>\n",
       "      <td>0</td>\n",
       "      <td>0</td>\n",
       "      <td>0</td>\n",
       "      <td>0</td>\n",
       "      <td>0</td>\n",
       "      <td>0</td>\n",
       "      <td>0</td>\n",
       "      <td>0</td>\n",
       "      <td>0</td>\n",
       "      <td>...</td>\n",
       "      <td>0</td>\n",
       "      <td>0</td>\n",
       "      <td>0</td>\n",
       "      <td>0</td>\n",
       "      <td>0</td>\n",
       "      <td>0</td>\n",
       "      <td>0</td>\n",
       "      <td>0</td>\n",
       "      <td>0</td>\n",
       "      <td>0</td>\n",
       "    </tr>\n",
       "    <tr>\n",
       "      <th>3</th>\n",
       "      <td>0</td>\n",
       "      <td>0</td>\n",
       "      <td>0</td>\n",
       "      <td>0</td>\n",
       "      <td>0</td>\n",
       "      <td>0</td>\n",
       "      <td>0</td>\n",
       "      <td>0</td>\n",
       "      <td>0</td>\n",
       "      <td>0</td>\n",
       "      <td>...</td>\n",
       "      <td>0</td>\n",
       "      <td>0</td>\n",
       "      <td>0</td>\n",
       "      <td>0</td>\n",
       "      <td>0</td>\n",
       "      <td>0</td>\n",
       "      <td>0</td>\n",
       "      <td>0</td>\n",
       "      <td>0</td>\n",
       "      <td>0</td>\n",
       "    </tr>\n",
       "    <tr>\n",
       "      <th>4</th>\n",
       "      <td>0</td>\n",
       "      <td>0</td>\n",
       "      <td>0</td>\n",
       "      <td>0</td>\n",
       "      <td>0</td>\n",
       "      <td>0</td>\n",
       "      <td>0</td>\n",
       "      <td>0</td>\n",
       "      <td>0</td>\n",
       "      <td>0</td>\n",
       "      <td>...</td>\n",
       "      <td>0</td>\n",
       "      <td>0</td>\n",
       "      <td>0</td>\n",
       "      <td>0</td>\n",
       "      <td>0</td>\n",
       "      <td>0</td>\n",
       "      <td>0</td>\n",
       "      <td>0</td>\n",
       "      <td>0</td>\n",
       "      <td>0</td>\n",
       "    </tr>\n",
       "  </tbody>\n",
       "</table>\n",
       "<p>5 rows × 784 columns</p>\n",
       "</div>"
      ],
      "text/plain": [
       "   pixel0  pixel1  pixel2  pixel3  pixel4  pixel5  pixel6  pixel7  pixel8  \\\n",
       "0       0       0       0       0       0       0       0       0       0   \n",
       "1       0       0       0       0       0       0       0       0       0   \n",
       "2       0       0       0       0       0       0       0       0       0   \n",
       "3       0       0       0       0       0       0       0       0       0   \n",
       "4       0       0       0       0       0       0       0       0       0   \n",
       "\n",
       "   pixel9  ...  pixel774  pixel775  pixel776  pixel777  pixel778  pixel779  \\\n",
       "0       0  ...         0         0         0         0         0         0   \n",
       "1       0  ...         0         0         0         0         0         0   \n",
       "2       0  ...         0         0         0         0         0         0   \n",
       "3       0  ...         0         0         0         0         0         0   \n",
       "4       0  ...         0         0         0         0         0         0   \n",
       "\n",
       "   pixel780  pixel781  pixel782  pixel783  \n",
       "0         0         0         0         0  \n",
       "1         0         0         0         0  \n",
       "2         0         0         0         0  \n",
       "3         0         0         0         0  \n",
       "4         0         0         0         0  \n",
       "\n",
       "[5 rows x 784 columns]"
      ]
     },
     "execution_count": 3,
     "metadata": {},
     "output_type": "execute_result"
    }
   ],
   "source": [
    "test.head()"
   ]
  },
  {
   "cell_type": "markdown",
   "metadata": {
    "papermill": {
     "duration": 0.035633,
     "end_time": "2020-12-09T13:51:38.319498",
     "exception": false,
     "start_time": "2020-12-09T13:51:38.283865",
     "status": "completed"
    },
    "tags": []
   },
   "source": [
    "*Here we load and split mnist dataset*"
   ]
  },
  {
   "cell_type": "code",
   "execution_count": 4,
   "metadata": {
    "execution": {
     "iopub.execute_input": "2020-12-09T13:51:38.411006Z",
     "iopub.status.busy": "2020-12-09T13:51:38.396013Z",
     "iopub.status.idle": "2020-12-09T13:51:39.025641Z",
     "shell.execute_reply": "2020-12-09T13:51:39.024967Z"
    },
    "papermill": {
     "duration": 0.670515,
     "end_time": "2020-12-09T13:51:39.025780",
     "exception": false,
     "start_time": "2020-12-09T13:51:38.355265",
     "status": "completed"
    },
    "tags": []
   },
   "outputs": [
    {
     "name": "stdout",
     "output_type": "stream",
     "text": [
      "Downloading data from https://storage.googleapis.com/tensorflow/tf-keras-datasets/mnist.npz\n",
      "11493376/11490434 [==============================] - 0s 0us/step\n"
     ]
    }
   ],
   "source": [
    "(X_train, Y_train), (X_val, Y_val) = mnist.load_data()"
   ]
  },
  {
   "cell_type": "markdown",
   "metadata": {
    "papermill": {
     "duration": 0.036733,
     "end_time": "2020-12-09T13:51:39.099814",
     "exception": false,
     "start_time": "2020-12-09T13:51:39.063081",
     "status": "completed"
    },
    "tags": []
   },
   "source": [
    "*Here we look at the examples of inputs*"
   ]
  },
  {
   "cell_type": "code",
   "execution_count": 5,
   "metadata": {
    "execution": {
     "iopub.execute_input": "2020-12-09T13:51:39.180569Z",
     "iopub.status.busy": "2020-12-09T13:51:39.179774Z",
     "iopub.status.idle": "2020-12-09T13:51:39.390038Z",
     "shell.execute_reply": "2020-12-09T13:51:39.389423Z"
    },
    "papermill": {
     "duration": 0.252605,
     "end_time": "2020-12-09T13:51:39.390181",
     "exception": false,
     "start_time": "2020-12-09T13:51:39.137576",
     "status": "completed"
    },
    "tags": []
   },
   "outputs": [
    {
     "data": {
      "text/plain": [
       "<matplotlib.image.AxesImage at 0x7f097301c450>"
      ]
     },
     "execution_count": 5,
     "metadata": {},
     "output_type": "execute_result"
    },
    {
     "data": {
      "image/png": "[encoded data removed]",
      "text/plain": [
       "<Figure size 432x288 with 1 Axes>"
      ]
     },
     "metadata": {
      "needs_background": "light"
     },
     "output_type": "display_data"
    }
   ],
   "source": [
    "plt.imshow(X_train[1])"
   ]
  },
  {
   "cell_type": "markdown",
   "metadata": {
    "papermill": {
     "duration": 0.038368,
     "end_time": "2020-12-09T13:51:39.467968",
     "exception": false,
     "start_time": "2020-12-09T13:51:39.429600",
     "status": "completed"
    },
    "tags": []
   },
   "source": [
    "# Processing the data"
   ]
  },
  {
   "cell_type": "markdown",
   "metadata": {
    "papermill": {
     "duration": 0.038166,
     "end_time": "2020-12-09T13:51:39.544709",
     "exception": false,
     "start_time": "2020-12-09T13:51:39.506543",
     "status": "completed"
    },
    "tags": []
   },
   "source": [
    "## Data separation"
   ]
  },
  {
   "cell_type": "code",
   "execution_count": 6,
   "metadata": {
    "execution": {
     "iopub.execute_input": "2020-12-09T13:51:39.628004Z",
     "iopub.status.busy": "2020-12-09T13:51:39.627263Z",
     "iopub.status.idle": "2020-12-09T13:51:39.810320Z",
     "shell.execute_reply": "2020-12-09T13:51:39.809591Z"
    },
    "papermill": {
     "duration": 0.227102,
     "end_time": "2020-12-09T13:51:39.810450",
     "exception": false,
     "start_time": "2020-12-09T13:51:39.583348",
     "status": "completed"
    },
    "tags": []
   },
   "outputs": [
    {
     "name": "stdout",
     "output_type": "stream",
     "text": [
      "(60000, 28, 28) ,  (60000,)\n"
     ]
    },
    {
     "data": {
      "image/png": "[encoded data removed]",
      "text/plain": [
       "<Figure size 432x288 with 1 Axes>"
      ]
     },
     "metadata": {
      "needs_background": "light"
     },
     "output_type": "display_data"
    }
   ],
   "source": [
    "# Y_train = train[\"label\"]\n",
    "# X_train = train.drop(labels=[\"label\"], axis=1)\n",
    "\n",
    "print(X_train.shape, ', ', Y_train.shape)\n",
    "\n",
    "g = sns.countplot(Y_train)"
   ]
  },
  {
   "cell_type": "markdown",
   "metadata": {
    "papermill": {
     "duration": 0.039535,
     "end_time": "2020-12-09T13:51:39.889982",
     "exception": false,
     "start_time": "2020-12-09T13:51:39.850447",
     "status": "completed"
    },
    "tags": []
   },
   "source": [
    "## Data normalization"
   ]
  },
  {
   "cell_type": "code",
   "execution_count": 7,
   "metadata": {
    "execution": {
     "iopub.execute_input": "2020-12-09T13:51:39.975702Z",
     "iopub.status.busy": "2020-12-09T13:51:39.974868Z",
     "iopub.status.idle": "2020-12-09T13:51:40.285334Z",
     "shell.execute_reply": "2020-12-09T13:51:40.284441Z"
    },
    "papermill": {
     "duration": 0.355596,
     "end_time": "2020-12-09T13:51:40.285504",
     "exception": false,
     "start_time": "2020-12-09T13:51:39.929908",
     "status": "completed"
    },
    "tags": []
   },
   "outputs": [
    {
     "name": "stdout",
     "output_type": "stream",
     "text": [
      "(60000, 28, 28) ,  (28000, 784)\n"
     ]
    }
   ],
   "source": [
    "X_train = X_train/255\n",
    "test = test/255\n",
    "\n",
    "print(X_train.shape, ', ', test.shape)"
   ]
  },
  {
   "cell_type": "markdown",
   "metadata": {
    "papermill": {
     "duration": 0.040335,
     "end_time": "2020-12-09T13:51:40.367081",
     "exception": false,
     "start_time": "2020-12-09T13:51:40.326746",
     "status": "completed"
    },
    "tags": []
   },
   "source": [
    "## Data reshaping"
   ]
  },
  {
   "cell_type": "markdown",
   "metadata": {
    "papermill": {
     "duration": 0.039985,
     "end_time": "2020-12-09T13:51:40.448036",
     "exception": false,
     "start_time": "2020-12-09T13:51:40.408051",
     "status": "completed"
    },
    "tags": []
   },
   "source": [
    "*To process the data we need to reshape 784 pixels of each entry into (28, 28, 1)*"
   ]
  },
  {
   "cell_type": "code",
   "execution_count": 8,
   "metadata": {
    "execution": {
     "iopub.execute_input": "2020-12-09T13:51:40.536825Z",
     "iopub.status.busy": "2020-12-09T13:51:40.536017Z",
     "iopub.status.idle": "2020-12-09T13:51:40.662903Z",
     "shell.execute_reply": "2020-12-09T13:51:40.662083Z"
    },
    "papermill": {
     "duration": 0.174578,
     "end_time": "2020-12-09T13:51:40.663062",
     "exception": false,
     "start_time": "2020-12-09T13:51:40.488484",
     "status": "completed"
    },
    "tags": []
   },
   "outputs": [
    {
     "name": "stdout",
     "output_type": "stream",
     "text": [
      "(60000, 28, 28, 1) ,  (10000, 28, 28, 1) ,  (28000, 28, 28, 1)\n"
     ]
    }
   ],
   "source": [
    "X_train = X_train.reshape(-1, 28, 28, 1)\n",
    "X_val = X_val.reshape(-1, 28, 28, 1)\n",
    "\n",
    "X_train = X_train.astype('float32')\n",
    "X_val = X_val.astype('float32')\n",
    "test = test.values.reshape(-1, 28, 28, 1)\n",
    "\n",
    "print(X_train.shape,', ',X_val.shape,', ', test.shape)"
   ]
  },
  {
   "cell_type": "markdown",
   "metadata": {
    "papermill": {
     "duration": 0.041036,
     "end_time": "2020-12-09T13:51:40.745964",
     "exception": false,
     "start_time": "2020-12-09T13:51:40.704928",
     "status": "completed"
    },
    "tags": []
   },
   "source": [
    "## Data splitting"
   ]
  },
  {
   "cell_type": "code",
   "execution_count": 9,
   "metadata": {
    "execution": {
     "iopub.execute_input": "2020-12-09T13:51:40.836977Z",
     "iopub.status.busy": "2020-12-09T13:51:40.835937Z",
     "iopub.status.idle": "2020-12-09T13:51:40.840667Z",
     "shell.execute_reply": "2020-12-09T13:51:40.840018Z"
    },
    "papermill": {
     "duration": 0.053457,
     "end_time": "2020-12-09T13:51:40.840794",
     "exception": false,
     "start_time": "2020-12-09T13:51:40.787337",
     "status": "completed"
    },
    "tags": []
   },
   "outputs": [],
   "source": [
    "#random_seed = 2\n",
    "Y_train = to_categorical(Y_train, num_classes = 10)\n",
    "\n",
    "#X_train, X_val, Y_train, Y_val = train_test_split(X_train, Y_train, test_size = 0.1, \n",
    "#                                                  random_state = random_seed)\n",
    "Y_val = to_categorical(Y_val, num_classes = 10)"
   ]
  },
  {
   "cell_type": "markdown",
   "metadata": {
    "papermill": {
     "duration": 0.040687,
     "end_time": "2020-12-09T13:51:40.922894",
     "exception": false,
     "start_time": "2020-12-09T13:51:40.882207",
     "status": "completed"
    },
    "tags": []
   },
   "source": [
    "# Initial model"
   ]
  },
  {
   "cell_type": "markdown",
   "metadata": {
    "papermill": {
     "duration": 0.041227,
     "end_time": "2020-12-09T13:51:41.005876",
     "exception": false,
     "start_time": "2020-12-09T13:51:40.964649",
     "status": "completed"
    },
    "tags": []
   },
   "source": [
    "*This is a model with 11 layers such as convolutional layer, pooling layer, flatten layer and fully-connected(dense) layer. Final layer will make a predictions*"
   ]
  },
  {
   "cell_type": "code",
   "execution_count": 10,
   "metadata": {
    "execution": {
     "iopub.execute_input": "2020-12-09T13:51:41.104147Z",
     "iopub.status.busy": "2020-12-09T13:51:41.103324Z",
     "iopub.status.idle": "2020-12-09T13:51:41.323050Z",
     "shell.execute_reply": "2020-12-09T13:51:41.322364Z"
    },
    "papermill": {
     "duration": 0.275604,
     "end_time": "2020-12-09T13:51:41.323198",
     "exception": false,
     "start_time": "2020-12-09T13:51:41.047594",
     "status": "completed"
    },
    "tags": []
   },
   "outputs": [],
   "source": [
    "model = Sequential()\n",
    "\n",
    "model.add(Conv2D(filters = 32, kernel_size = (5, 5), padding = \"Same\", activation = \"relu\",\n",
    "                 kernel_initializer = 'he_uniform', input_shape = (28, 28, 1)))\n",
    "model.add(Conv2D(filters = 32, kernel_size = (5, 5), padding = \"Same\", activation = \"relu\",\n",
    "                kernel_initializer = 'he_uniform'))\n",
    "model.add(MaxPooling2D(pool_size = (2, 2)))\n",
    "model.add(Dropout(0.25))\n",
    "\n",
    "model.add(Conv2D(filters = 64, kernel_size = (3, 3), padding = \"Same\", activation = \"relu\",\n",
    "                kernel_initializer = 'he_uniform'))\n",
    "model.add(Conv2D(filters = 64, kernel_size = (3, 3), padding = \"Same\", activation = \"relu\",\n",
    "                kernel_initializer = 'he_uniform'))\n",
    "model.add(MaxPooling2D(pool_size = (2, 2), strides = (2, 2)))\n",
    "model.add(Dropout(0.25))\n",
    "\n",
    "model.add(Flatten())\n",
    "model.add(Dense(256, activation=\"relu\", kernel_initializer = 'he_uniform'))\n",
    "model.add(Dropout(0.5))\n",
    "\n",
    "model.add(Dense(units = 10, activation=\"softmax\", kernel_initializer = 'he_uniform'))"
   ]
  },
  {
   "cell_type": "markdown",
   "metadata": {
    "papermill": {
     "duration": 0.0416,
     "end_time": "2020-12-09T13:51:41.406469",
     "exception": false,
     "start_time": "2020-12-09T13:51:41.364869",
     "status": "completed"
    },
    "tags": []
   },
   "source": [
    "## Compile the model"
   ]
  },
  {
   "cell_type": "markdown",
   "metadata": {
    "papermill": {
     "duration": 0.04092,
     "end_time": "2020-12-09T13:51:41.488745",
     "exception": false,
     "start_time": "2020-12-09T13:51:41.447825",
     "status": "completed"
    },
    "tags": []
   },
   "source": [
    "*We can use different optimizers such as Adam, SGD, RMSprop, Adadelta, Adagrad, Adamax, Nadam, Ftrl. In this model we use RMSprop optimizer*\n"
   ]
  },
  {
   "cell_type": "code",
   "execution_count": 11,
   "metadata": {
    "execution": {
     "iopub.execute_input": "2020-12-09T13:51:41.585875Z",
     "iopub.status.busy": "2020-12-09T13:51:41.584742Z",
     "iopub.status.idle": "2020-12-09T13:51:41.591697Z",
     "shell.execute_reply": "2020-12-09T13:51:41.591088Z"
    },
    "papermill": {
     "duration": 0.061845,
     "end_time": "2020-12-09T13:51:41.591835",
     "exception": false,
     "start_time": "2020-12-09T13:51:41.529990",
     "status": "completed"
    },
    "tags": []
   },
   "outputs": [],
   "source": [
    "optimizer = RMSprop(lr = 0.001, rho = 0.9, epsilon = 1e-08, decay = 0.0)\n",
    "model.compile(optimizer = optimizer , loss = 'categorical_crossentropy', metrics = ['accuracy'])"
   ]
  },
  {
   "cell_type": "markdown",
   "metadata": {
    "papermill": {
     "duration": 0.041181,
     "end_time": "2020-12-09T13:51:41.674806",
     "exception": false,
     "start_time": "2020-12-09T13:51:41.633625",
     "status": "completed"
    },
    "tags": []
   },
   "source": [
    "*Using the method ```summary()``` we can see layers' types, output shape and amount of parameters*"
   ]
  },
  {
   "cell_type": "code",
   "execution_count": 12,
   "metadata": {
    "execution": {
     "iopub.execute_input": "2020-12-09T13:51:41.764179Z",
     "iopub.status.busy": "2020-12-09T13:51:41.762259Z",
     "iopub.status.idle": "2020-12-09T13:51:41.771616Z",
     "shell.execute_reply": "2020-12-09T13:51:41.772371Z"
    },
    "papermill": {
     "duration": 0.056153,
     "end_time": "2020-12-09T13:51:41.772580",
     "exception": false,
     "start_time": "2020-12-09T13:51:41.716427",
     "status": "completed"
    },
    "tags": []
   },
   "outputs": [
    {
     "name": "stdout",
     "output_type": "stream",
     "text": [
      "Model: \"sequential\"\n",
      "_________________________________________________________________\n",
      "Layer (type)                 Output Shape              Param #   \n",
      "=================================================================\n",
      "conv2d (Conv2D)              (None, 28, 28, 32)        832       \n",
      "_________________________________________________________________\n",
      "conv2d_1 (Conv2D)            (None, 28, 28, 32)        25632     \n",
      "_________________________________________________________________\n",
      "max_pooling2d (MaxPooling2D) (None, 14, 14, 32)        0         \n",
      "_________________________________________________________________\n",
      "dropout (Dropout)            (None, 14, 14, 32)        0         \n",
      "_________________________________________________________________\n",
      "conv2d_2 (Conv2D)            (None, 14, 14, 64)        18496     \n",
      "_________________________________________________________________\n",
      "conv2d_3 (Conv2D)            (None, 14, 14, 64)        36928     \n",
      "_________________________________________________________________\n",
      "max_pooling2d_1 (MaxPooling2 (None, 7, 7, 64)          0         \n",
      "_________________________________________________________________\n",
      "dropout_1 (Dropout)          (None, 7, 7, 64)          0         \n",
      "_________________________________________________________________\n",
      "flatten (Flatten)            (None, 3136)              0         \n",
      "_________________________________________________________________\n",
      "dense (Dense)                (None, 256)               803072    \n",
      "_________________________________________________________________\n",
      "dropout_2 (Dropout)          (None, 256)               0         \n",
      "_________________________________________________________________\n",
      "dense_1 (Dense)              (None, 10)                2570      \n",
      "=================================================================\n",
      "Total params: 887,530\n",
      "Trainable params: 887,530\n",
      "Non-trainable params: 0\n",
      "_________________________________________________________________\n"
     ]
    }
   ],
   "source": [
    "model.summary()"
   ]
  },
  {
   "cell_type": "markdown",
   "metadata": {
    "papermill": {
     "duration": 0.041947,
     "end_time": "2020-12-09T13:51:41.858489",
     "exception": false,
     "start_time": "2020-12-09T13:51:41.816542",
     "status": "completed"
    },
    "tags": []
   },
   "source": [
    "## Set callbacks"
   ]
  },
  {
   "cell_type": "code",
   "execution_count": 13,
   "metadata": {
    "execution": {
     "iopub.execute_input": "2020-12-09T13:51:41.953710Z",
     "iopub.status.busy": "2020-12-09T13:51:41.952589Z",
     "iopub.status.idle": "2020-12-09T13:51:41.956000Z",
     "shell.execute_reply": "2020-12-09T13:51:41.955386Z"
    },
    "papermill": {
     "duration": 0.055325,
     "end_time": "2020-12-09T13:51:41.956142",
     "exception": false,
     "start_time": "2020-12-09T13:51:41.900817",
     "status": "completed"
    },
    "tags": []
   },
   "outputs": [],
   "source": [
    "# ModelCheckpoint\n",
    "checkpoint = ModelCheckpoint('./mod_best.hdf5',monitor = 'val_loss', mode = \"min\", verbose = 1, save_best_model = True)\n",
    "\n",
    "# EarlyStopping\n",
    "earlystop = EarlyStopping(monitor = 'val_loss', patience = 3, min_delta = 0,verbose =1, restore_best_weights = True)\n",
    "\n",
    "# ReduceLROnPlateau\n",
    "reduce_lr = ReduceLROnPlateau(monitor='val_loss', patience=3, verbose=1, factor=0.5, min_lr=0.00001)\n",
    "\n",
    "callbacks = [reduce_lr,checkpoint]"
   ]
  },
  {
   "cell_type": "markdown",
   "metadata": {
    "papermill": {
     "duration": 0.044214,
     "end_time": "2020-12-09T13:51:42.043622",
     "exception": false,
     "start_time": "2020-12-09T13:51:41.999408",
     "status": "completed"
    },
    "tags": []
   },
   "source": [
    "## Data augmentation"
   ]
  },
  {
   "cell_type": "markdown",
   "metadata": {
    "papermill": {
     "duration": 0.042812,
     "end_time": "2020-12-09T13:51:42.129223",
     "exception": false,
     "start_time": "2020-12-09T13:51:42.086411",
     "status": "completed"
    },
    "tags": []
   },
   "source": [
    "*We use data augmentation to prevent overfitting*"
   ]
  },
  {
   "cell_type": "code",
   "execution_count": 14,
   "metadata": {
    "execution": {
     "iopub.execute_input": "2020-12-09T13:51:42.224937Z",
     "iopub.status.busy": "2020-12-09T13:51:42.224188Z",
     "iopub.status.idle": "2020-12-09T13:51:42.299742Z",
     "shell.execute_reply": "2020-12-09T13:51:42.298929Z"
    },
    "papermill": {
     "duration": 0.126997,
     "end_time": "2020-12-09T13:51:42.299867",
     "exception": false,
     "start_time": "2020-12-09T13:51:42.172870",
     "status": "completed"
    },
    "tags": []
   },
   "outputs": [],
   "source": [
    "datagen = ImageDataGenerator(\n",
    "        featurewise_center=False,  # set input mean to 0 over the dataset\n",
    "        samplewise_center=False,  # set each sample mean to 0\n",
    "        featurewise_std_normalization=False,  # divide inputs by std of the dataset\n",
    "        samplewise_std_normalization=False,  # divide each input by its std\n",
    "        zca_whitening=False,  # apply ZCA whitening\n",
    "        rotation_range=10,  # randomly rotate images in the range (degrees, 0 to 180)\n",
    "        zoom_range = 0.1, # Randomly zoom image \n",
    "        width_shift_range=0.1,  # randomly shift images horizontally (fraction of total width)\n",
    "        height_shift_range=0.1,  # randomly shift images vertically (fraction of total height)\n",
    "        horizontal_flip=False,  # randomly flip images\n",
    "        vertical_flip=False)  # randomly flip images\n",
    "\n",
    "datagen.fit(X_train)"
   ]
  },
  {
   "cell_type": "markdown",
   "metadata": {
    "papermill": {
     "duration": 0.04285,
     "end_time": "2020-12-09T13:51:42.386378",
     "exception": false,
     "start_time": "2020-12-09T13:51:42.343528",
     "status": "completed"
    },
    "tags": []
   },
   "source": [
    "## Fit the model"
   ]
  },
  {
   "cell_type": "code",
   "execution_count": 15,
   "metadata": {
    "execution": {
     "iopub.execute_input": "2020-12-09T13:51:42.479323Z",
     "iopub.status.busy": "2020-12-09T13:51:42.478520Z",
     "iopub.status.idle": "2020-12-09T13:51:42.864682Z",
     "shell.execute_reply": "2020-12-09T13:51:42.863916Z"
    },
    "papermill": {
     "duration": 0.435002,
     "end_time": "2020-12-09T13:51:42.864803",
     "exception": false,
     "start_time": "2020-12-09T13:51:42.429801",
     "status": "completed"
    },
    "tags": []
   },
   "outputs": [
    {
     "ename": "OSError",
     "evalue": "SavedModel file does not exist at: ./mod_best.hdf5/{saved_model.pbtxt|saved_model.pb}",
     "output_type": "error",
     "traceback": [
      "\u001b[0;31m---------------------------------------------------------------------------\u001b[0m",
      "\u001b[0;31mOSError\u001b[0m                                   Traceback (most recent call last)",
      "\u001b[0;32m<ipython-input-15-35ce68d687aa>\u001b[0m in \u001b[0;36m<module>\u001b[0;34m\u001b[0m\n\u001b[0;32m----> 1\u001b[0;31m \u001b[0mmodel\u001b[0m \u001b[0;34m=\u001b[0m \u001b[0mload_model\u001b[0m\u001b[0;34m(\u001b[0m\u001b[0;34m\"./mod_best.hdf5\"\u001b[0m\u001b[0;34m)\u001b[0m\u001b[0;34m\u001b[0m\u001b[0;34m\u001b[0m\u001b[0m\n\u001b[0m",
      "\u001b[0;32m/opt/conda/lib/python3.7/site-packages/tensorflow/python/keras/saving/save.py\u001b[0m in \u001b[0;36mload_model\u001b[0;34m(filepath, custom_objects, compile, options)\u001b[0m\n\u001b[1;32m    184\u001b[0m     \u001b[0mfilepath\u001b[0m \u001b[0;34m=\u001b[0m \u001b[0mpath_to_string\u001b[0m\u001b[0;34m(\u001b[0m\u001b[0mfilepath\u001b[0m\u001b[0;34m)\u001b[0m\u001b[0;34m\u001b[0m\u001b[0;34m\u001b[0m\u001b[0m\n\u001b[1;32m    185\u001b[0m     \u001b[0;32mif\u001b[0m \u001b[0misinstance\u001b[0m\u001b[0;34m(\u001b[0m\u001b[0mfilepath\u001b[0m\u001b[0;34m,\u001b[0m \u001b[0msix\u001b[0m\u001b[0;34m.\u001b[0m\u001b[0mstring_types\u001b[0m\u001b[0;34m)\u001b[0m\u001b[0;34m:\u001b[0m\u001b[0;34m\u001b[0m\u001b[0;34m\u001b[0m\u001b[0m\n\u001b[0;32m--> 186\u001b[0;31m       \u001b[0mloader_impl\u001b[0m\u001b[0;34m.\u001b[0m\u001b[0mparse_saved_model\u001b[0m\u001b[0;34m(\u001b[0m\u001b[0mfilepath\u001b[0m\u001b[0;34m)\u001b[0m\u001b[0;34m\u001b[0m\u001b[0;34m\u001b[0m\u001b[0m\n\u001b[0m\u001b[1;32m    187\u001b[0m       \u001b[0;32mreturn\u001b[0m \u001b[0msaved_model_load\u001b[0m\u001b[0;34m.\u001b[0m\u001b[0mload\u001b[0m\u001b[0;34m(\u001b[0m\u001b[0mfilepath\u001b[0m\u001b[0;34m,\u001b[0m \u001b[0mcompile\u001b[0m\u001b[0;34m,\u001b[0m \u001b[0moptions\u001b[0m\u001b[0;34m)\u001b[0m\u001b[0;34m\u001b[0m\u001b[0;34m\u001b[0m\u001b[0m\n\u001b[1;32m    188\u001b[0m \u001b[0;34m\u001b[0m\u001b[0m\n",
      "\u001b[0;32m/opt/conda/lib/python3.7/site-packages/tensorflow/python/saved_model/loader_impl.py\u001b[0m in \u001b[0;36mparse_saved_model\u001b[0;34m(export_dir)\u001b[0m\n\u001b[1;32m    111\u001b[0m                   (export_dir,\n\u001b[1;32m    112\u001b[0m                    \u001b[0mconstants\u001b[0m\u001b[0;34m.\u001b[0m\u001b[0mSAVED_MODEL_FILENAME_PBTXT\u001b[0m\u001b[0;34m,\u001b[0m\u001b[0;34m\u001b[0m\u001b[0;34m\u001b[0m\u001b[0m\n\u001b[0;32m--> 113\u001b[0;31m                    constants.SAVED_MODEL_FILENAME_PB))\n\u001b[0m\u001b[1;32m    114\u001b[0m \u001b[0;34m\u001b[0m\u001b[0m\n\u001b[1;32m    115\u001b[0m \u001b[0;34m\u001b[0m\u001b[0m\n",
      "\u001b[0;31mOSError\u001b[0m: SavedModel file does not exist at: ./mod_best.hdf5/{saved_model.pbtxt|saved_model.pb}"
     ]
    }
   ],
   "source": [
    "model = load_model(\"./mod_best.hdf5\")"
   ]
  },
  {
   "cell_type": "code",
   "execution_count": 16,
   "metadata": {
    "execution": {
     "iopub.execute_input": "2020-12-09T13:51:42.961197Z",
     "iopub.status.busy": "2020-12-09T13:51:42.960422Z",
     "iopub.status.idle": "2020-12-09T15:48:02.643828Z",
     "shell.execute_reply": "2020-12-09T15:48:02.643207Z"
    },
    "papermill": {
     "duration": 6979.735101,
     "end_time": "2020-12-09T15:48:02.643958",
     "exception": false,
     "start_time": "2020-12-09T13:51:42.908857",
     "status": "completed"
    },
    "tags": []
   },
   "outputs": [
    {
     "name": "stdout",
     "output_type": "stream",
     "text": [
      "Epoch 1/30\n",
      "468/468 [==============================] - ETA: 0s - loss: 0.3692 - accuracy: 0.8825\n",
      "Epoch 00001: saving model to ./mod_best.hdf5\n",
      "468/468 [==============================] - 225s 481ms/step - loss: 0.3692 - accuracy: 0.8825 - val_loss: 6.6664 - val_accuracy: 0.9832\n",
      "Epoch 2/30\n",
      "468/468 [==============================] - ETA: 0s - loss: 0.1043 - accuracy: 0.9690\n",
      "Epoch 00002: saving model to ./mod_best.hdf5\n",
      "468/468 [==============================] - 226s 482ms/step - loss: 0.1043 - accuracy: 0.9690 - val_loss: 9.5593 - val_accuracy: 0.9833\n",
      "Epoch 3/30\n",
      "468/468 [==============================] - ETA: 0s - loss: 0.0805 - accuracy: 0.9763\n",
      "Epoch 00003: saving model to ./mod_best.hdf5\n",
      "468/468 [==============================] - 226s 483ms/step - loss: 0.0805 - accuracy: 0.9763 - val_loss: 5.8994 - val_accuracy: 0.9879\n",
      "Epoch 4/30\n",
      "468/468 [==============================] - ETA: 0s - loss: 0.0684 - accuracy: 0.9796\n",
      "Epoch 00004: saving model to ./mod_best.hdf5\n",
      "468/468 [==============================] - 227s 485ms/step - loss: 0.0684 - accuracy: 0.9796 - val_loss: 5.5377 - val_accuracy: 0.9884\n",
      "Epoch 5/30\n",
      "468/468 [==============================] - ETA: 0s - loss: 0.0640 - accuracy: 0.9815\n",
      "Epoch 00005: saving model to ./mod_best.hdf5\n",
      "468/468 [==============================] - 228s 487ms/step - loss: 0.0640 - accuracy: 0.9815 - val_loss: 6.9318 - val_accuracy: 0.9888\n",
      "Epoch 6/30\n",
      "468/468 [==============================] - ETA: 0s - loss: 0.0623 - accuracy: 0.9826\n",
      "Epoch 00006: saving model to ./mod_best.hdf5\n",
      "468/468 [==============================] - 228s 487ms/step - loss: 0.0623 - accuracy: 0.9826 - val_loss: 6.2406 - val_accuracy: 0.9908\n",
      "Epoch 7/30\n",
      "468/468 [==============================] - ETA: 0s - loss: 0.0596 - accuracy: 0.9830\n",
      "Epoch 00007: ReduceLROnPlateau reducing learning rate to 0.0005000000237487257.\n",
      "\n",
      "Epoch 00007: saving model to ./mod_best.hdf5\n",
      "468/468 [==============================] - 228s 488ms/step - loss: 0.0596 - accuracy: 0.9830 - val_loss: 8.9081 - val_accuracy: 0.9905\n",
      "Epoch 8/30\n",
      "468/468 [==============================] - ETA: 0s - loss: 0.0464 - accuracy: 0.9864\n",
      "Epoch 00008: saving model to ./mod_best.hdf5\n",
      "468/468 [==============================] - 228s 487ms/step - loss: 0.0464 - accuracy: 0.9864 - val_loss: 6.2586 - val_accuracy: 0.9919\n",
      "Epoch 9/30\n",
      "468/468 [==============================] - ETA: 0s - loss: 0.0481 - accuracy: 0.9865\n",
      "Epoch 00009: saving model to ./mod_best.hdf5\n",
      "468/468 [==============================] - 248s 530ms/step - loss: 0.0481 - accuracy: 0.9865 - val_loss: 7.4718 - val_accuracy: 0.9906\n",
      "Epoch 10/30\n",
      "468/468 [==============================] - ETA: 0s - loss: 0.0463 - accuracy: 0.9872\n",
      "Epoch 00010: ReduceLROnPlateau reducing learning rate to 0.0002500000118743628.\n",
      "\n",
      "Epoch 00010: saving model to ./mod_best.hdf5\n",
      "468/468 [==============================] - 230s 491ms/step - loss: 0.0463 - accuracy: 0.9872 - val_loss: 8.4830 - val_accuracy: 0.9908\n",
      "Epoch 11/30\n",
      "468/468 [==============================] - ETA: 0s - loss: 0.0395 - accuracy: 0.9880\n",
      "Epoch 00011: saving model to ./mod_best.hdf5\n",
      "468/468 [==============================] - 229s 490ms/step - loss: 0.0395 - accuracy: 0.9880 - val_loss: 8.0617 - val_accuracy: 0.9909\n",
      "Epoch 12/30\n",
      "468/468 [==============================] - ETA: 0s - loss: 0.0383 - accuracy: 0.9886\n",
      "Epoch 00012: saving model to ./mod_best.hdf5\n",
      "468/468 [==============================] - 230s 492ms/step - loss: 0.0383 - accuracy: 0.9886 - val_loss: 10.3529 - val_accuracy: 0.9897\n",
      "Epoch 13/30\n",
      "468/468 [==============================] - ETA: 0s - loss: 0.0396 - accuracy: 0.9890\n",
      "Epoch 00013: ReduceLROnPlateau reducing learning rate to 0.0001250000059371814.\n",
      "\n",
      "Epoch 00013: saving model to ./mod_best.hdf5\n",
      "468/468 [==============================] - 230s 492ms/step - loss: 0.0396 - accuracy: 0.9890 - val_loss: 12.8376 - val_accuracy: 0.9883\n",
      "Epoch 14/30\n",
      "468/468 [==============================] - ETA: 0s - loss: 0.0344 - accuracy: 0.9899\n",
      "Epoch 00014: saving model to ./mod_best.hdf5\n",
      "468/468 [==============================] - 231s 494ms/step - loss: 0.0344 - accuracy: 0.9899 - val_loss: 12.7723 - val_accuracy: 0.9889\n",
      "Epoch 15/30\n",
      "468/468 [==============================] - ETA: 0s - loss: 0.0337 - accuracy: 0.9904\n",
      "Epoch 00015: saving model to ./mod_best.hdf5\n",
      "468/468 [==============================] - 231s 494ms/step - loss: 0.0337 - accuracy: 0.9904 - val_loss: 10.5201 - val_accuracy: 0.9908\n",
      "Epoch 16/30\n",
      "468/468 [==============================] - ETA: 0s - loss: 0.0339 - accuracy: 0.9905\n",
      "Epoch 00016: ReduceLROnPlateau reducing learning rate to 6.25000029685907e-05.\n",
      "\n",
      "Epoch 00016: saving model to ./mod_best.hdf5\n",
      "468/468 [==============================] - 234s 499ms/step - loss: 0.0339 - accuracy: 0.9905 - val_loss: 15.8191 - val_accuracy: 0.9870\n",
      "Epoch 17/30\n",
      "468/468 [==============================] - ETA: 0s - loss: 0.0352 - accuracy: 0.9902\n",
      "Epoch 00017: saving model to ./mod_best.hdf5\n",
      "468/468 [==============================] - 249s 531ms/step - loss: 0.0352 - accuracy: 0.9902 - val_loss: 12.4058 - val_accuracy: 0.9896\n",
      "Epoch 18/30\n",
      "468/468 [==============================] - ETA: 0s - loss: 0.0328 - accuracy: 0.9909\n",
      "Epoch 00018: saving model to ./mod_best.hdf5\n",
      "468/468 [==============================] - 230s 490ms/step - loss: 0.0328 - accuracy: 0.9909 - val_loss: 13.9784 - val_accuracy: 0.9876\n",
      "Epoch 19/30\n",
      "468/468 [==============================] - ETA: 0s - loss: 0.0335 - accuracy: 0.9901\n",
      "Epoch 00019: ReduceLROnPlateau reducing learning rate to 3.125000148429535e-05.\n",
      "\n",
      "Epoch 00019: saving model to ./mod_best.hdf5\n",
      "468/468 [==============================] - 231s 494ms/step - loss: 0.0335 - accuracy: 0.9901 - val_loss: 15.2230 - val_accuracy: 0.9866\n",
      "Epoch 20/30\n",
      "468/468 [==============================] - ETA: 0s - loss: 0.0323 - accuracy: 0.9909\n",
      "Epoch 00020: saving model to ./mod_best.hdf5\n",
      "468/468 [==============================] - 230s 491ms/step - loss: 0.0323 - accuracy: 0.9909 - val_loss: 13.3900 - val_accuracy: 0.9891\n",
      "Epoch 21/30\n",
      "468/468 [==============================] - ETA: 0s - loss: 0.0300 - accuracy: 0.9913\n",
      "Epoch 00021: saving model to ./mod_best.hdf5\n",
      "468/468 [==============================] - 232s 495ms/step - loss: 0.0300 - accuracy: 0.9913 - val_loss: 16.0331 - val_accuracy: 0.9886\n",
      "Epoch 22/30\n",
      "468/468 [==============================] - ETA: 0s - loss: 0.0313 - accuracy: 0.9909\n",
      "Epoch 00022: ReduceLROnPlateau reducing learning rate to 1.5625000742147677e-05.\n",
      "\n",
      "Epoch 00022: saving model to ./mod_best.hdf5\n",
      "468/468 [==============================] - 231s 494ms/step - loss: 0.0313 - accuracy: 0.9909 - val_loss: 13.8692 - val_accuracy: 0.9882\n",
      "Epoch 23/30\n",
      "468/468 [==============================] - ETA: 0s - loss: 0.0325 - accuracy: 0.9912\n",
      "Epoch 00023: saving model to ./mod_best.hdf5\n",
      "468/468 [==============================] - 233s 499ms/step - loss: 0.0325 - accuracy: 0.9912 - val_loss: 15.7008 - val_accuracy: 0.9874\n",
      "Epoch 24/30\n",
      "468/468 [==============================] - ETA: 0s - loss: 0.0307 - accuracy: 0.9912\n",
      "Epoch 00024: saving model to ./mod_best.hdf5\n",
      "468/468 [==============================] - 231s 493ms/step - loss: 0.0307 - accuracy: 0.9912 - val_loss: 16.4995 - val_accuracy: 0.9881\n",
      "Epoch 25/30\n",
      "468/468 [==============================] - ETA: 0s - loss: 0.0331 - accuracy: 0.9904\n",
      "Epoch 00025: ReduceLROnPlateau reducing learning rate to 1e-05.\n",
      "\n",
      "Epoch 00025: saving model to ./mod_best.hdf5\n",
      "468/468 [==============================] - 253s 540ms/step - loss: 0.0331 - accuracy: 0.9904 - val_loss: 18.9165 - val_accuracy: 0.9869\n",
      "Epoch 26/30\n",
      "468/468 [==============================] - ETA: 0s - loss: 0.0301 - accuracy: 0.9912\n",
      "Epoch 00026: saving model to ./mod_best.hdf5\n",
      "468/468 [==============================] - 231s 494ms/step - loss: 0.0301 - accuracy: 0.9912 - val_loss: 18.5227 - val_accuracy: 0.9868\n",
      "Epoch 27/30\n",
      "468/468 [==============================] - ETA: 0s - loss: 0.0303 - accuracy: 0.9913\n",
      "Epoch 00027: saving model to ./mod_best.hdf5\n",
      "468/468 [==============================] - 234s 499ms/step - loss: 0.0303 - accuracy: 0.9913 - val_loss: 17.7102 - val_accuracy: 0.9878\n",
      "Epoch 28/30\n",
      "468/468 [==============================] - ETA: 0s - loss: 0.0324 - accuracy: 0.9912\n",
      "Epoch 00028: saving model to ./mod_best.hdf5\n",
      "468/468 [==============================] - 232s 496ms/step - loss: 0.0324 - accuracy: 0.9912 - val_loss: 14.1064 - val_accuracy: 0.9886\n",
      "Epoch 29/30\n",
      "468/468 [==============================] - ETA: 0s - loss: 0.0335 - accuracy: 0.9905\n",
      "Epoch 00029: saving model to ./mod_best.hdf5\n",
      "468/468 [==============================] - 232s 495ms/step - loss: 0.0335 - accuracy: 0.9905 - val_loss: 16.9311 - val_accuracy: 0.9870\n",
      "Epoch 30/30\n",
      "468/468 [==============================] - ETA: 0s - loss: 0.0318 - accuracy: 0.9910\n",
      "Epoch 00030: saving model to ./mod_best.hdf5\n",
      "468/468 [==============================] - 233s 498ms/step - loss: 0.0318 - accuracy: 0.9910 - val_loss: 16.4524 - val_accuracy: 0.9874\n"
     ]
    }
   ],
   "source": [
    "batch_size = 128\n",
    "epochs = 30\n",
    "history = model.fit_generator(datagen.flow(X_train,Y_train, batch_size = batch_size),\n",
    "                              epochs = epochs, validation_data = datagen.flow(X_val,Y_val, batch_size = batch_size),\n",
    "                              steps_per_epoch = X_train.shape[0] // batch_size,\n",
    "                              callbacks = callbacks)"
   ]
  },
  {
   "cell_type": "markdown",
   "metadata": {
    "papermill": {
     "duration": 5.624262,
     "end_time": "2020-12-09T15:48:13.957857",
     "exception": false,
     "start_time": "2020-12-09T15:48:08.333595",
     "status": "completed"
    },
    "tags": []
   },
   "source": [
    "# Evaluate the model"
   ]
  },
  {
   "cell_type": "markdown",
   "metadata": {
    "papermill": {
     "duration": 5.656077,
     "end_time": "2020-12-09T15:48:25.292301",
     "exception": false,
     "start_time": "2020-12-09T15:48:19.636224",
     "status": "completed"
    },
    "tags": []
   },
   "source": [
    "## Plot the loss and accuracy curves for training and validation"
   ]
  },
  {
   "cell_type": "code",
   "execution_count": 17,
   "metadata": {
    "execution": {
     "iopub.execute_input": "2020-12-09T15:48:36.662455Z",
     "iopub.status.busy": "2020-12-09T15:48:36.661464Z",
     "iopub.status.idle": "2020-12-09T15:48:44.830761Z",
     "shell.execute_reply": "2020-12-09T15:48:44.831417Z"
    },
    "papermill": {
     "duration": 13.845372,
     "end_time": "2020-12-09T15:48:44.831584",
     "exception": false,
     "start_time": "2020-12-09T15:48:30.986212",
     "status": "completed"
    },
    "tags": []
   },
   "outputs": [
    {
     "name": "stdout",
     "output_type": "stream",
     "text": [
      "Val_Loss : 12.091950416564941\n",
      "Val_Acc : 0.9911999702453613\n"
     ]
    }
   ],
   "source": [
    "score = model.evaluate(X_val, Y_val, verbose=0)\n",
    "print(\"Val_Loss :\",score[0])\n",
    "print(\"Val_Acc :\",score[1])"
   ]
  },
  {
   "cell_type": "code",
   "execution_count": 18,
   "metadata": {
    "execution": {
     "iopub.execute_input": "2020-12-09T15:48:56.223075Z",
     "iopub.status.busy": "2020-12-09T15:48:56.222284Z",
     "iopub.status.idle": "2020-12-09T15:48:56.541402Z",
     "shell.execute_reply": "2020-12-09T15:48:56.540634Z"
    },
    "papermill": {
     "duration": 6.038019,
     "end_time": "2020-12-09T15:48:56.541525",
     "exception": false,
     "start_time": "2020-12-09T15:48:50.503506",
     "status": "completed"
    },
    "tags": []
   },
   "outputs": [
    {
     "data": {
      "text/plain": [
       "<matplotlib.legend.Legend at 0x7f0970c3af50>"
      ]
     },
     "execution_count": 18,
     "metadata": {},
     "output_type": "execute_result"
    },
    {
     "data": {
      "image/png": "[encoded data removed]",
      "text/plain": [
       "<Figure size 432x288 with 2 Axes>"
      ]
     },
     "metadata": {
      "needs_background": "light"
     },
     "output_type": "display_data"
    }
   ],
   "source": [
    "fig, ax = plt.subplots(2, 1)\n",
    "ax[0].plot(history.history[\"loss\"], color=\"b\", label=\"Training loss\")\n",
    "ax[0].plot(history.history[\"val_loss\"], color=\"g\", label=\"validation loss\", axes=ax[0])\n",
    "ax[0].legend(loc=\"best\", shadow=True)\n",
    "\n",
    "ax[1].plot(history.history[\"accuracy\"], color=\"b\", label=\"Training accuracy\")\n",
    "ax[1].plot(history.history[\"val_accuracy\"], color=\"g\", label=\"Validation accuracy\")\n",
    "ax[1].legend(loc=\"best\", shadow=True)"
   ]
  },
  {
   "cell_type": "markdown",
   "metadata": {
    "papermill": {
     "duration": 5.652454,
     "end_time": "2020-12-09T15:49:07.896276",
     "exception": false,
     "start_time": "2020-12-09T15:49:02.243822",
     "status": "completed"
    },
    "tags": []
   },
   "source": [
    "## Confusion matrix"
   ]
  },
  {
   "cell_type": "markdown",
   "metadata": {
    "papermill": {
     "duration": 5.608366,
     "end_time": "2020-12-09T15:49:19.142093",
     "exception": false,
     "start_time": "2020-12-09T15:49:13.533727",
     "status": "completed"
    },
    "tags": []
   },
   "source": [
    "*The function `plot_confusion_matrix()` prints and plots the confusion matrix.\n",
    "    Normalization can be applied by setting `normalize=True`*"
   ]
  },
  {
   "cell_type": "code",
   "execution_count": 19,
   "metadata": {
    "execution": {
     "iopub.execute_input": "2020-12-09T15:49:30.535998Z",
     "iopub.status.busy": "2020-12-09T15:49:30.528099Z",
     "iopub.status.idle": "2020-12-09T15:49:39.647538Z",
     "shell.execute_reply": "2020-12-09T15:49:39.646760Z"
    },
    "papermill": {
     "duration": 14.832165,
     "end_time": "2020-12-09T15:49:39.647664",
     "exception": false,
     "start_time": "2020-12-09T15:49:24.815499",
     "status": "completed"
    },
    "tags": []
   },
   "outputs": [
    {
     "data": {
      "image/png": "[encoded data removed]",
      "text/plain": [
       "<Figure size 1080x720 with 2 Axes>"
      ]
     },
     "metadata": {
      "needs_background": "light"
     },
     "output_type": "display_data"
    }
   ],
   "source": [
    "def plot_confusion_matrix(cm, classes, normalize = False, title = \"Confusion matrix\", cmap = plt.cm.Blues):\n",
    "    plt.imshow(cm, interpolation = \"nearest\", cmap = cmap)\n",
    "    plt.title(title)\n",
    "    plt.colorbar()\n",
    "    tick_marks = np.arange(len(classes))\n",
    "    plt.xticks(tick_marks, classes, rotation = 0)\n",
    "    plt.yticks(tick_marks, classes)\n",
    "\n",
    "    if normalize:\n",
    "        cm = cm.astype(\"float\") / cm.sum(axis = 1)[:, np.newaxis]\n",
    "\n",
    "    thresh = cm.max() / 2.0\n",
    "    for i, j in itertools.product(range(cm.shape[0]), range(cm.shape[1])):\n",
    "        plt.text(\n",
    "            j,\n",
    "            i,\n",
    "            cm[i, j],\n",
    "            horizontalalignment = \"center\",\n",
    "            color=\"white\" if cm[i, j] > thresh else \"black\",\n",
    "        )\n",
    "\n",
    "    plt.tight_layout()\n",
    "    plt.ylabel(\"True label\")\n",
    "    plt.xlabel(\"Predicted label\")\n",
    "    \n",
    "    \n",
    "# Predict the values from the validation dataset\n",
    "Y_pred = model.predict(X_val)\n",
    "# Convert predictions classes to one hot vectors\n",
    "Y_pred_classes = np.argmax(Y_pred, axis = 1)\n",
    "# Convert validation observations to one hot vectors\n",
    "Y_true = np.argmax(Y_val, axis = 1)\n",
    "# compute the confusion matrix\n",
    "CM = confusion_matrix(Y_true, Y_pred_classes)\n",
    "# plot the confusion matrix\n",
    "plt.figure(figsize = (15,10))\n",
    "sns.heatmap(CM,annot = True,cmap = \"viridis\")\n",
    "plt.tight_layout()"
   ]
  },
  {
   "cell_type": "markdown",
   "metadata": {
    "papermill": {
     "duration": 5.630107,
     "end_time": "2020-12-09T15:49:50.980168",
     "exception": false,
     "start_time": "2020-12-09T15:49:45.350061",
     "status": "completed"
    },
    "tags": []
   },
   "source": [
    "## Display some error results"
   ]
  },
  {
   "cell_type": "code",
   "execution_count": 20,
   "metadata": {
    "execution": {
     "iopub.execute_input": "2020-12-09T15:50:02.364733Z",
     "iopub.status.busy": "2020-12-09T15:50:02.363626Z",
     "iopub.status.idle": "2020-12-09T15:50:03.507877Z",
     "shell.execute_reply": "2020-12-09T15:50:03.507104Z"
    },
    "papermill": {
     "duration": 6.812759,
     "end_time": "2020-12-09T15:50:03.508000",
     "exception": false,
     "start_time": "2020-12-09T15:49:56.695241",
     "status": "completed"
    },
    "tags": []
   },
   "outputs": [
    {
     "data": {
      "image/png": "[encoded data removed]",
      "text/plain": [
       "<Figure size 432x288 with 6 Axes>"
      ]
     },
     "metadata": {
      "needs_background": "light"
     },
     "output_type": "display_data"
    }
   ],
   "source": [
    "\n",
    "\n",
    "# Errors are difference between predicted labels and true labels\n",
    "errors = Y_pred_classes - Y_true != 0\n",
    "\n",
    "Y_pred_classes_errors = Y_pred_classes[errors]\n",
    "Y_pred_errors = Y_pred[errors]\n",
    "Y_true_errors = Y_true[errors]\n",
    "X_val_errors = X_val[errors]\n",
    "\n",
    "\n",
    "def display_errors(errors_index, img_errors, pred_errors, obs_errors):\n",
    "    \"\"\" This function shows 6 images with their predicted and real labels\"\"\"\n",
    "    n = 0\n",
    "    nrows = 2\n",
    "    ncols = 3\n",
    "    fig, ax = plt.subplots(nrows, ncols, sharex = True, sharey = True)\n",
    "    for row in range(nrows):\n",
    "        for col in range(ncols):\n",
    "            error = errors_index[n]\n",
    "            ax[row, col].imshow((img_errors[error]).reshape((28, 28)))\n",
    "            ax[row, col].set_title(\n",
    "                \"Predicted label :{}\\nTrue label :{}\".format(\n",
    "                    pred_errors[error], obs_errors[error]\n",
    "                )\n",
    "            )\n",
    "            n += 1\n",
    "\n",
    "\n",
    "# Probabilities of the wrong predicted numbers\n",
    "Y_pred_errors_prob = np.max(Y_pred_errors, axis=1)\n",
    "\n",
    "# Predicted probabilities of the true values in the error set\n",
    "true_prob_errors = np.diagonal(np.take(Y_pred_errors, Y_true_errors, axis=1))\n",
    "\n",
    "# Difference between the probability of the predicted label and the true label\n",
    "delta_pred_true_errors = Y_pred_errors_prob - true_prob_errors\n",
    "\n",
    "# Sorted list of the delta prob errors\n",
    "sorted_dela_errors = np.argsort(delta_pred_true_errors)\n",
    "\n",
    "# Top 6 errors\n",
    "most_important_errors = sorted_dela_errors[-6:]\n",
    "\n",
    "# Show the top 6 errors\n",
    "display_errors(most_important_errors, X_val_errors, Y_pred_classes_errors, Y_true_errors)"
   ]
  },
  {
   "cell_type": "markdown",
   "metadata": {
    "papermill": {
     "duration": 5.689973,
     "end_time": "2020-12-09T15:50:14.881355",
     "exception": false,
     "start_time": "2020-12-09T15:50:09.191382",
     "status": "completed"
    },
    "tags": []
   },
   "source": [
    "## Model plotting"
   ]
  },
  {
   "cell_type": "code",
   "execution_count": 21,
   "metadata": {
    "execution": {
     "iopub.execute_input": "2020-12-09T15:50:26.205966Z",
     "iopub.status.busy": "2020-12-09T15:50:26.205130Z",
     "iopub.status.idle": "2020-12-09T15:50:26.917675Z",
     "shell.execute_reply": "2020-12-09T15:50:26.918287Z"
    },
    "papermill": {
     "duration": 6.403447,
     "end_time": "2020-12-09T15:50:26.918460",
     "exception": false,
     "start_time": "2020-12-09T15:50:20.515013",
     "status": "completed"
    },
    "tags": []
   },
   "outputs": [
    {
     "data": {
      "image/png": "[encoded data removed]",
      "text/plain": [
       "<IPython.core.display.Image object>"
      ]
     },
     "execution_count": 21,
     "metadata": {},
     "output_type": "execute_result"
    }
   ],
   "source": [
    "plot_model(model, to_file = \"../working/plot.png\", show_shapes = True, show_layer_names = True)"
   ]
  },
  {
   "cell_type": "markdown",
   "metadata": {
    "papermill": {
     "duration": 5.736543,
     "end_time": "2020-12-09T15:50:38.442402",
     "exception": false,
     "start_time": "2020-12-09T15:50:32.705859",
     "status": "completed"
    },
    "tags": []
   },
   "source": [
    "## Predictions and accuracy"
   ]
  },
  {
   "cell_type": "markdown",
   "metadata": {
    "papermill": {
     "duration": 5.649154,
     "end_time": "2020-12-09T15:50:49.778520",
     "exception": false,
     "start_time": "2020-12-09T15:50:44.129366",
     "status": "completed"
    },
    "tags": []
   },
   "source": [
    "*Generate predictions on the test data using `predict()`*"
   ]
  },
  {
   "cell_type": "code",
   "execution_count": 22,
   "metadata": {
    "execution": {
     "iopub.execute_input": "2020-12-09T15:51:01.253319Z",
     "iopub.status.busy": "2020-12-09T15:51:01.252466Z",
     "iopub.status.idle": "2020-12-09T15:51:23.671034Z",
     "shell.execute_reply": "2020-12-09T15:51:23.670221Z"
    },
    "papermill": {
     "duration": 28.149798,
     "end_time": "2020-12-09T15:51:23.671192",
     "exception": false,
     "start_time": "2020-12-09T15:50:55.521394",
     "status": "completed"
    },
    "tags": []
   },
   "outputs": [
    {
     "name": "stdout",
     "output_type": "stream",
     "text": [
      "(28000,)\n"
     ]
    }
   ],
   "source": [
    "probabilities = model.predict(test)\n",
    "y_pred = np.argmax(probabilities, axis=1)\n",
    "print(y_pred.shape)"
   ]
  },
  {
   "cell_type": "markdown",
   "metadata": {
    "papermill": {
     "duration": 5.803249,
     "end_time": "2020-12-09T15:51:35.160945",
     "exception": false,
     "start_time": "2020-12-09T15:51:29.357696",
     "status": "completed"
    },
    "tags": []
   },
   "source": [
    "*We evaluate the model on the train data via evaluate()*"
   ]
  },
  {
   "cell_type": "markdown",
   "metadata": {
    "papermill": {
     "duration": 5.617636,
     "end_time": "2020-12-09T15:51:46.557867",
     "exception": false,
     "start_time": "2020-12-09T15:51:40.940231",
     "status": "completed"
    },
    "tags": []
   },
   "source": [
    "# Initial submission"
   ]
  },
  {
   "cell_type": "code",
   "execution_count": 23,
   "metadata": {
    "execution": {
     "iopub.execute_input": "2020-12-09T15:51:57.863261Z",
     "iopub.status.busy": "2020-12-09T15:51:57.862448Z",
     "iopub.status.idle": "2020-12-09T15:51:58.191057Z",
     "shell.execute_reply": "2020-12-09T15:51:58.190311Z"
    },
    "papermill": {
     "duration": 5.942164,
     "end_time": "2020-12-09T15:51:58.191205",
     "exception": false,
     "start_time": "2020-12-09T15:51:52.249041",
     "status": "completed"
    },
    "tags": []
   },
   "outputs": [
    {
     "name": "stdout",
     "output_type": "stream",
     "text": [
      "Your submission was successfully saved!\n"
     ]
    }
   ],
   "source": [
    "submission = pd.DataFrame({'ImageId': np.arange(1, 28001), 'Label': y_pred})\n",
    "submission.to_csv(\"submission.csv\", index = False)\n",
    "print(\"Your submission was successfully saved!\")"
   ]
  },
  {
   "cell_type": "code",
   "execution_count": null,
   "metadata": {
    "papermill": {
     "duration": 5.669636,
     "end_time": "2020-12-09T15:52:09.714639",
     "exception": false,
     "start_time": "2020-12-09T15:52:04.045003",
     "status": "completed"
    },
    "tags": []
   },
   "outputs": [],
   "source": []
  }
 ],
 "metadata": {
  "kernelspec": {
   "display_name": "Python 3",
   "language": "python",
   "name": "python3"
  },
  "language_info": {
   "codemirror_mode": {
    "name": "ipython",
    "version": 3
   },
   "file_extension": ".py",
   "mimetype": "text/x-python",
   "name": "python",
   "nbconvert_exporter": "python",
   "pygments_lexer": "ipython3",
   "version": "3.7.6"
  },
  "papermill": {
   "duration": 7252.53588,
   "end_time": "2020-12-09T15:52:15.459364",
   "environment_variables": {},
   "exception": null,
   "input_path": "__notebook__.ipynb",
   "output_path": "__notebook__.ipynb",
   "parameters": {},
   "start_time": "2020-12-09T13:51:22.923484",
   "version": "2.1.0"
  }
 },
 "nbformat": 4,
 "nbformat_minor": 4
}
